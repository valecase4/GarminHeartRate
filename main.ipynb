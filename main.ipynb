{
 "cells": [
  {
   "cell_type": "code",
   "execution_count": 20,
   "id": "cac67289-caa5-429b-8752-6b5e0f63fd90",
   "metadata": {},
   "outputs": [],
   "source": [
    "import pandas as pd\n",
    "import matplotlib.pyplot as plt\n",
    "import glob"
   ]
  },
  {
   "cell_type": "code",
   "execution_count": 21,
   "id": "311746bc-46f0-441f-befc-04e726762a7a",
   "metadata": {},
   "outputs": [
    {
     "name": "stdout",
     "output_type": "stream",
     "text": [
      "['data/raw/heart_rates/2024-12-21.csv', 'data/raw/heart_rates/2024-12-22.csv', 'data/raw/heart_rates/2024-12-23.csv', 'data/raw/heart_rates/2024-12-24.csv', 'data/raw/heart_rates/2024-12-25.csv', 'data/raw/heart_rates/2024-12-26.csv', 'data/raw/heart_rates/2024-12-27.csv', 'data/raw/heart_rates/2024-12-28.csv', 'data/raw/heart_rates/2024-12-29.csv', 'data/raw/heart_rates/2024-12-30.csv', 'data/raw/heart_rates/2024-12-31.csv', 'data/raw/heart_rates/2025-01-01.csv', 'data/raw/heart_rates/2025-01-02.csv']\n"
     ]
    }
   ],
   "source": [
    "csv_files = glob.glob(\"data/raw/heart_rates/*.csv\")\n",
    "csv_files = [csv_file.replace(\"\\\\\", \"/\") for csv_file in csv_files]\n",
    "\n",
    "print(csv_files)"
   ]
  },
  {
   "cell_type": "code",
   "execution_count": 22,
   "id": "8128d8aa-f506-448b-9818-8acef16010a6",
   "metadata": {},
   "outputs": [],
   "source": [
    "all_data = pd.concat(\n",
    "    (pd.read_csv(file).assign(date=file.split('/')[-1].replace('.csv', '')) for file in csv_files),\n",
    "    ignore_index=True\n",
    ")"
   ]
  },
  {
   "cell_type": "code",
   "execution_count": 23,
   "id": "dbaa2975-735f-4b4f-a05f-eda240a472e1",
   "metadata": {},
   "outputs": [
    {
     "data": {
      "text/html": [
       "<div>\n",
       "<style scoped>\n",
       "    .dataframe tbody tr th:only-of-type {\n",
       "        vertical-align: middle;\n",
       "    }\n",
       "\n",
       "    .dataframe tbody tr th {\n",
       "        vertical-align: top;\n",
       "    }\n",
       "\n",
       "    .dataframe thead th {\n",
       "        text-align: right;\n",
       "    }\n",
       "</style>\n",
       "<table border=\"1\" class=\"dataframe\">\n",
       "  <thead>\n",
       "    <tr style=\"text-align: right;\">\n",
       "      <th></th>\n",
       "      <th>timestamp</th>\n",
       "      <th>heart_rates</th>\n",
       "      <th>date</th>\n",
       "    </tr>\n",
       "  </thead>\n",
       "  <tbody>\n",
       "    <tr>\n",
       "      <th>0</th>\n",
       "      <td>14:58</td>\n",
       "      <td>69.0</td>\n",
       "      <td>2024-12-21</td>\n",
       "    </tr>\n",
       "    <tr>\n",
       "      <th>1</th>\n",
       "      <td>15:00</td>\n",
       "      <td>70.0</td>\n",
       "      <td>2024-12-21</td>\n",
       "    </tr>\n",
       "    <tr>\n",
       "      <th>2</th>\n",
       "      <td>15:02</td>\n",
       "      <td>66.0</td>\n",
       "      <td>2024-12-21</td>\n",
       "    </tr>\n",
       "    <tr>\n",
       "      <th>3</th>\n",
       "      <td>15:04</td>\n",
       "      <td>71.0</td>\n",
       "      <td>2024-12-21</td>\n",
       "    </tr>\n",
       "    <tr>\n",
       "      <th>4</th>\n",
       "      <td>15:06</td>\n",
       "      <td>75.0</td>\n",
       "      <td>2024-12-21</td>\n",
       "    </tr>\n",
       "  </tbody>\n",
       "</table>\n",
       "</div>"
      ],
      "text/plain": [
       "  timestamp  heart_rates        date\n",
       "0     14:58         69.0  2024-12-21\n",
       "1     15:00         70.0  2024-12-21\n",
       "2     15:02         66.0  2024-12-21\n",
       "3     15:04         71.0  2024-12-21\n",
       "4     15:06         75.0  2024-12-21"
      ]
     },
     "execution_count": 23,
     "metadata": {},
     "output_type": "execute_result"
    }
   ],
   "source": [
    "all_data.head()"
   ]
  },
  {
   "cell_type": "code",
   "execution_count": 24,
   "id": "311307e5-dd1d-4f1d-aab9-094dec796016",
   "metadata": {},
   "outputs": [
    {
     "data": {
      "text/html": [
       "<div>\n",
       "<style scoped>\n",
       "    .dataframe tbody tr th:only-of-type {\n",
       "        vertical-align: middle;\n",
       "    }\n",
       "\n",
       "    .dataframe tbody tr th {\n",
       "        vertical-align: top;\n",
       "    }\n",
       "\n",
       "    .dataframe thead th {\n",
       "        text-align: right;\n",
       "    }\n",
       "</style>\n",
       "<table border=\"1\" class=\"dataframe\">\n",
       "  <thead>\n",
       "    <tr style=\"text-align: right;\">\n",
       "      <th></th>\n",
       "      <th>timestamp</th>\n",
       "      <th>heart_rates</th>\n",
       "      <th>date</th>\n",
       "    </tr>\n",
       "  </thead>\n",
       "  <tbody>\n",
       "    <tr>\n",
       "      <th>8163</th>\n",
       "      <td>07:58</td>\n",
       "      <td>74.0</td>\n",
       "      <td>2025-01-02</td>\n",
       "    </tr>\n",
       "    <tr>\n",
       "      <th>8164</th>\n",
       "      <td>08:00</td>\n",
       "      <td>62.0</td>\n",
       "      <td>2025-01-02</td>\n",
       "    </tr>\n",
       "    <tr>\n",
       "      <th>8165</th>\n",
       "      <td>08:02</td>\n",
       "      <td>63.0</td>\n",
       "      <td>2025-01-02</td>\n",
       "    </tr>\n",
       "    <tr>\n",
       "      <th>8166</th>\n",
       "      <td>08:04</td>\n",
       "      <td>67.0</td>\n",
       "      <td>2025-01-02</td>\n",
       "    </tr>\n",
       "    <tr>\n",
       "      <th>8167</th>\n",
       "      <td>08:06</td>\n",
       "      <td>61.0</td>\n",
       "      <td>2025-01-02</td>\n",
       "    </tr>\n",
       "  </tbody>\n",
       "</table>\n",
       "</div>"
      ],
      "text/plain": [
       "     timestamp  heart_rates        date\n",
       "8163     07:58         74.0  2025-01-02\n",
       "8164     08:00         62.0  2025-01-02\n",
       "8165     08:02         63.0  2025-01-02\n",
       "8166     08:04         67.0  2025-01-02\n",
       "8167     08:06         61.0  2025-01-02"
      ]
     },
     "execution_count": 24,
     "metadata": {},
     "output_type": "execute_result"
    }
   ],
   "source": [
    "all_data.tail()"
   ]
  },
  {
   "cell_type": "code",
   "execution_count": 25,
   "id": "a92ec0ff-1537-446f-9a74-b79836878e75",
   "metadata": {},
   "outputs": [
    {
     "data": {
      "text/plain": [
       "timestamp       object\n",
       "heart_rates    float64\n",
       "date            object\n",
       "dtype: object"
      ]
     },
     "execution_count": 25,
     "metadata": {},
     "output_type": "execute_result"
    }
   ],
   "source": [
    "all_data.dtypes"
   ]
  },
  {
   "cell_type": "code",
   "execution_count": 26,
   "id": "66b050f1-c9e7-4b5a-a1d2-fe76f049d362",
   "metadata": {},
   "outputs": [
    {
     "data": {
      "text/plain": [
       "timestamp       0\n",
       "heart_rates    23\n",
       "date            0\n",
       "dtype: int64"
      ]
     },
     "execution_count": 26,
     "metadata": {},
     "output_type": "execute_result"
    }
   ],
   "source": [
    "missing_values_counts = all_data.isna().sum()\n",
    "missing_values_counts"
   ]
  },
  {
   "cell_type": "code",
   "execution_count": 27,
   "id": "38b664a3-2d12-4d0d-b188-7b3a3894c16d",
   "metadata": {},
   "outputs": [
    {
     "name": "stdout",
     "output_type": "stream",
     "text": [
      "{'2024-12-21': 241, '2024-12-22': 719, '2024-12-23': 720, '2024-12-24': 720, '2024-12-25': 584, '2024-12-26': 720, '2024-12-27': 648, '2024-12-28': 704, '2024-12-29': 720, '2024-12-30': 720, '2024-12-31': 720, '2025-01-01': 708, '2025-01-02': 244}\n"
     ]
    }
   ],
   "source": [
    "df_shape_per_day = {}\n",
    "\n",
    "for file in csv_files:\n",
    "    day = file.split(\"/\")[-1].replace('.csv', '')\n",
    "    df = pd.read_csv(file)\n",
    "\n",
    "    df_rows = df.shape[0]\n",
    "\n",
    "    df_shape_per_day[day] = df_rows\n",
    "\n",
    "print(df_shape_per_day)"
   ]
  },
  {
   "cell_type": "code",
   "execution_count": 28,
   "id": "144f80b2-c105-4085-abb7-2d312c922a09",
   "metadata": {},
   "outputs": [
    {
     "name": "stdout",
     "output_type": "stream",
     "text": [
      "Expected records for each day: 648.0\n"
     ]
    }
   ],
   "source": [
    "minutes_per_day = 24 * 60\n",
    "expected_rows = (minutes_per_day / 2) * 0.9\n",
    "\n",
    "print(f\"Expected records for each day: {expected_rows}\") "
   ]
  },
  {
   "cell_type": "code",
   "execution_count": 29,
   "id": "773e6812-2077-4072-a07a-80c70dc170ce",
   "metadata": {},
   "outputs": [
    {
     "data": {
      "image/png": "[encoded data removed]",
      "text/plain": [
       "<Figure size 1000x400 with 1 Axes>"
      ]
     },
     "metadata": {},
     "output_type": "display_data"
    }
   ],
   "source": [
    "days = list(df_shape_per_day.keys())\n",
    "rows = list(df_shape_per_day.values())\n",
    "\n",
    "plt.figure(figsize=(10, 4))\n",
    "bars = plt.bar(days, rows, color='royalblue', width=0.5)\n",
    "\n",
    "for bar in bars:\n",
    "    yval = bar.get_height()\n",
    "    plt.text(bar.get_x() + bar.get_width() / 2, yval-50, str(int(yval)), \n",
    "            ha='center', va='bottom', fontsize=10, fontweight='bold', color='white')\n",
    "\n",
    "plt.axhline(y=expected_rows, color='green', linestyle='--', linewidth=2, label=f'Min Expected Records ({int(expected_rows)})')\n",
    "\n",
    "plt.xlabel('Date')\n",
    "plt.ylabel('Number of Records')\n",
    "plt.title('Number of Heart Rate Records per Day')\n",
    "plt.xticks(rotation=45)\n",
    "plt.grid(axis='y', linestyle='--', alpha=0.7)\n",
    "plt.legend(fontsize='x-small')\n",
    "plt.show()"
   ]
  },
  {
   "cell_type": "code",
   "execution_count": 30,
   "id": "7a8f0c0b-d593-4a9e-807d-8f5cbf4e330f",
   "metadata": {},
   "outputs": [],
   "source": [
    "upper_days = [day for day, rows in df_shape_per_day.items() if (rows > expected_rows and rows < (minutes_per_day / 2))]\n",
    "lower_days = [day for day, rows in df_shape_per_day.items() if rows < expected_rows]"
   ]
  },
  {
   "cell_type": "code",
   "execution_count": 32,
   "id": "03c6cf89-1f64-4afd-9125-6045904357d4",
   "metadata": {},
   "outputs": [],
   "source": [
    "for day in upper_days:\n",
    "    df = pd.read_csv(f\"data/raw/heart_rates\\\\{day}.csv\")\n",
    "    df['timestamp'] = pd.to_datetime(df['timestamp'], format=\"%H:%M\")\n",
    "    df['timestamp'] = df['timestamp'].apply(lambda time: time.time())\n",
    "    start_time, end_time = pd.to_datetime(\"00:00\", format=\"%H:%M\").time(), pd.to_datetime(\"23:58\", format=\"%H:%M\").time()\n",
    "    \n",
    "    expected_items = pd.timedelta_range(start=\"00:00:00\", end=\"23:58:00\", freq='2min')\n",
    "\n"
   ]
  },
  {
   "cell_type": "code",
   "execution_count": null,
   "id": "82bb00df-a15f-4f51-8033-bfc8d4dd3739",
   "metadata": {},
   "outputs": [],
   "source": []
  }
 ],
 "metadata": {
  "kernelspec": {
   "display_name": "Python (GarminHeartRate)",
   "language": "python",
   "name": "garminheartrate"
  },
  "language_info": {
   "codemirror_mode": {
    "name": "ipython",
    "version": 3
   },
   "file_extension": ".py",
   "mimetype": "text/x-python",
   "name": "python",
   "nbconvert_exporter": "python",
   "pygments_lexer": "ipython3",
   "version": "3.13.1"
  }
 },
 "nbformat": 4,
 "nbformat_minor": 5
}
