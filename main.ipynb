{
 "cells": [
  {
   "cell_type": "code",
   "execution_count": 64,
   "id": "cac67289-caa5-429b-8752-6b5e0f63fd90",
   "metadata": {},
   "outputs": [],
   "source": [
    "import pandas as pd\n",
    "import matplotlib.pyplot as plt\n",
    "import glob"
   ]
  },
  {
   "cell_type": "code",
   "execution_count": 65,
   "id": "311746bc-46f0-441f-befc-04e726762a7a",
   "metadata": {},
   "outputs": [],
   "source": [
    "csv_files = glob.glob(\"data/raw/heart_rates/*.csv\")\n",
    "csv_files = [csv_file.replace(\"\\\\\", \"/\") for csv_file in csv_files]"
   ]
  },
  {
   "cell_type": "code",
   "execution_count": 66,
   "id": "8128d8aa-f506-448b-9818-8acef16010a6",
   "metadata": {},
   "outputs": [],
   "source": [
    "all_data = pd.concat(\n",
    "    (pd.read_csv(file).assign(date=file.split('/')[-1].replace('.csv', '')) for file in csv_files),\n",
    "    ignore_index=True\n",
    ")"
   ]
  },
  {
   "cell_type": "code",
   "execution_count": 67,
   "id": "dbaa2975-735f-4b4f-a05f-eda240a472e1",
   "metadata": {},
   "outputs": [
    {
     "data": {
      "text/html": [
       "<div>\n",
       "<style scoped>\n",
       "    .dataframe tbody tr th:only-of-type {\n",
       "        vertical-align: middle;\n",
       "    }\n",
       "\n",
       "    .dataframe tbody tr th {\n",
       "        vertical-align: top;\n",
       "    }\n",
       "\n",
       "    .dataframe thead th {\n",
       "        text-align: right;\n",
       "    }\n",
       "</style>\n",
       "<table border=\"1\" class=\"dataframe\">\n",
       "  <thead>\n",
       "    <tr style=\"text-align: right;\">\n",
       "      <th></th>\n",
       "      <th>timestamp</th>\n",
       "      <th>heart_rates</th>\n",
       "      <th>date</th>\n",
       "    </tr>\n",
       "  </thead>\n",
       "  <tbody>\n",
       "    <tr>\n",
       "      <th>0</th>\n",
       "      <td>14:58</td>\n",
       "      <td>69.0</td>\n",
       "      <td>2024-12-21</td>\n",
       "    </tr>\n",
       "    <tr>\n",
       "      <th>1</th>\n",
       "      <td>15:00</td>\n",
       "      <td>70.0</td>\n",
       "      <td>2024-12-21</td>\n",
       "    </tr>\n",
       "    <tr>\n",
       "      <th>2</th>\n",
       "      <td>15:02</td>\n",
       "      <td>66.0</td>\n",
       "      <td>2024-12-21</td>\n",
       "    </tr>\n",
       "    <tr>\n",
       "      <th>3</th>\n",
       "      <td>15:04</td>\n",
       "      <td>71.0</td>\n",
       "      <td>2024-12-21</td>\n",
       "    </tr>\n",
       "    <tr>\n",
       "      <th>4</th>\n",
       "      <td>15:06</td>\n",
       "      <td>75.0</td>\n",
       "      <td>2024-12-21</td>\n",
       "    </tr>\n",
       "  </tbody>\n",
       "</table>\n",
       "</div>"
      ],
      "text/plain": [
       "  timestamp  heart_rates        date\n",
       "0     14:58         69.0  2024-12-21\n",
       "1     15:00         70.0  2024-12-21\n",
       "2     15:02         66.0  2024-12-21\n",
       "3     15:04         71.0  2024-12-21\n",
       "4     15:06         75.0  2024-12-21"
      ]
     },
     "execution_count": 67,
     "metadata": {},
     "output_type": "execute_result"
    }
   ],
   "source": [
    "all_data.head()"
   ]
  },
  {
   "cell_type": "code",
   "execution_count": 68,
   "id": "311307e5-dd1d-4f1d-aab9-094dec796016",
   "metadata": {},
   "outputs": [
    {
     "data": {
      "text/html": [
       "<div>\n",
       "<style scoped>\n",
       "    .dataframe tbody tr th:only-of-type {\n",
       "        vertical-align: middle;\n",
       "    }\n",
       "\n",
       "    .dataframe tbody tr th {\n",
       "        vertical-align: top;\n",
       "    }\n",
       "\n",
       "    .dataframe thead th {\n",
       "        text-align: right;\n",
       "    }\n",
       "</style>\n",
       "<table border=\"1\" class=\"dataframe\">\n",
       "  <thead>\n",
       "    <tr style=\"text-align: right;\">\n",
       "      <th></th>\n",
       "      <th>timestamp</th>\n",
       "      <th>heart_rates</th>\n",
       "      <th>date</th>\n",
       "    </tr>\n",
       "  </thead>\n",
       "  <tbody>\n",
       "    <tr>\n",
       "      <th>8842</th>\n",
       "      <td>06:36</td>\n",
       "      <td>46.0</td>\n",
       "      <td>2025-01-03</td>\n",
       "    </tr>\n",
       "    <tr>\n",
       "      <th>8843</th>\n",
       "      <td>06:38</td>\n",
       "      <td>57.0</td>\n",
       "      <td>2025-01-03</td>\n",
       "    </tr>\n",
       "    <tr>\n",
       "      <th>8844</th>\n",
       "      <td>06:40</td>\n",
       "      <td>49.0</td>\n",
       "      <td>2025-01-03</td>\n",
       "    </tr>\n",
       "    <tr>\n",
       "      <th>8845</th>\n",
       "      <td>06:42</td>\n",
       "      <td>50.0</td>\n",
       "      <td>2025-01-03</td>\n",
       "    </tr>\n",
       "    <tr>\n",
       "      <th>8846</th>\n",
       "      <td>06:44</td>\n",
       "      <td>47.0</td>\n",
       "      <td>2025-01-03</td>\n",
       "    </tr>\n",
       "  </tbody>\n",
       "</table>\n",
       "</div>"
      ],
      "text/plain": [
       "     timestamp  heart_rates        date\n",
       "8842     06:36         46.0  2025-01-03\n",
       "8843     06:38         57.0  2025-01-03\n",
       "8844     06:40         49.0  2025-01-03\n",
       "8845     06:42         50.0  2025-01-03\n",
       "8846     06:44         47.0  2025-01-03"
      ]
     },
     "execution_count": 68,
     "metadata": {},
     "output_type": "execute_result"
    }
   ],
   "source": [
    "all_data.tail()"
   ]
  },
  {
   "cell_type": "code",
   "execution_count": 69,
   "id": "a92ec0ff-1537-446f-9a74-b79836878e75",
   "metadata": {},
   "outputs": [
    {
     "data": {
      "text/plain": [
       "timestamp       object\n",
       "heart_rates    float64\n",
       "date            object\n",
       "dtype: object"
      ]
     },
     "execution_count": 69,
     "metadata": {},
     "output_type": "execute_result"
    }
   ],
   "source": [
    "all_data.dtypes"
   ]
  },
  {
   "cell_type": "markdown",
   "id": "45d47b6d-d5e1-427a-aba4-acb32949c3d1",
   "metadata": {},
   "source": [
    "### Calculate the Average Heart Rate Value"
   ]
  },
  {
   "cell_type": "code",
   "execution_count": 70,
   "id": "ff87a47f-7959-4700-abcb-9c545ed87397",
   "metadata": {},
   "outputs": [
    {
     "name": "stdout",
     "output_type": "stream",
     "text": [
      "Average Heart Rate Value: 64.38\n"
     ]
    }
   ],
   "source": [
    "average_heart_rate_value = round(all_data['heart_rates'].mean(), 2)\n",
    "\n",
    "print(f\"Average Heart Rate Value: {average_heart_rate_value}\")"
   ]
  },
  {
   "cell_type": "markdown",
   "id": "6987df14-c765-43c2-bb7a-3eed345fff44",
   "metadata": {},
   "source": [
    "### Calculate the Maximum Recorded Value and the Minimum Recorded Value of the Heart Rate"
   ]
  },
  {
   "cell_type": "code",
   "execution_count": 71,
   "id": "d1692cdb-7910-47ad-b7ef-87e66fabe197",
   "metadata": {},
   "outputs": [
    {
     "name": "stdout",
     "output_type": "stream",
     "text": [
      "Maximum heart rate value: 167.0 recorded on 2024-12-22 at 15:36\n",
      "Minimum heart rate value: 33.0 recorded on 2024-12-21 at 23:24\n"
     ]
    }
   ],
   "source": [
    "maximum_heart_rate_value = all_data['heart_rates'].max()\n",
    "minimum_heart_rate_value = all_data['heart_rates'].min()\n",
    "\n",
    "max_index = all_data['heart_rates'].idxmax()\n",
    "min_index = all_data['heart_rates'].idxmin()\n",
    "\n",
    "max_date = all_data.loc[max_index, 'date']\n",
    "max_timestamp = all_data.loc[max_index, 'timestamp']\n",
    "\n",
    "min_date = all_data.loc[min_index, 'date']\n",
    "min_timestamp = all_data.loc[min_index, 'timestamp']\n",
    "\n",
    "print(f\"Maximum heart rate value: {maximum_heart_rate_value} recorded on {max_date} at {max_timestamp}\")\n",
    "print(f\"Minimum heart rate value: {minimum_heart_rate_value} recorded on {min_date} at {min_timestamp}\")"
   ]
  },
  {
   "cell_type": "code",
   "execution_count": 72,
   "id": "66b050f1-c9e7-4b5a-a1d2-fe76f049d362",
   "metadata": {},
   "outputs": [
    {
     "data": {
      "text/plain": [
       "timestamp       0\n",
       "heart_rates    23\n",
       "date            0\n",
       "dtype: int64"
      ]
     },
     "execution_count": 72,
     "metadata": {},
     "output_type": "execute_result"
    }
   ],
   "source": [
    "missing_values_counts = all_data.isna().sum()\n",
    "missing_values_counts"
   ]
  },
  {
   "cell_type": "code",
   "execution_count": 73,
   "id": "142fb378-fd86-4675-b38b-68719fcc3a2a",
   "metadata": {},
   "outputs": [],
   "source": [
    "def standardize_dataframe(df, timestamp_column):\n",
    "    df[timestamp_column] = pd.to_datetime(df[timestamp_column], format=\"%H:%M\").dt.time\n",
    "\n",
    "    expected_items = pd.date_range(start=\"00:00\", end=\"23:58\", freq=\"2min\").time\n",
    "    \n",
    "    df.set_index(timestamp_column, inplace=True)\n",
    "    df = df.reindex(expected_items)\n",
    "    \n",
    "    df.index.name = 'timestamp'\n",
    "    \n",
    "    return df\n"
   ]
  },
  {
   "cell_type": "code",
   "execution_count": 74,
   "id": "76514226-0b0e-426b-a05f-4d70dd69342e",
   "metadata": {},
   "outputs": [
    {
     "name": "stdout",
     "output_type": "stream",
     "text": [
      "2024-12-21: 490 NaN values\n",
      "2024-12-22: 2 NaN values\n",
      "2024-12-23: 0 NaN values\n",
      "2024-12-24: 0 NaN values\n",
      "2024-12-25: 138 NaN values\n",
      "2024-12-26: 0 NaN values\n",
      "2024-12-27: 72 NaN values\n",
      "2024-12-28: 17 NaN values\n",
      "2024-12-29: 0 NaN values\n",
      "2024-12-30: 0 NaN values\n",
      "2024-12-31: 0 NaN values\n",
      "2025-01-01: 20 NaN values\n",
      "2025-01-02: 0 NaN values\n",
      "2025-01-03: 517 NaN values\n"
     ]
    }
   ],
   "source": [
    "nan_counts = {}\n",
    "\n",
    "for file_name in csv_files:\n",
    "    day = file_name.split(\"/\")[-1].replace(\".csv\", \"\")\n",
    "    df = pd.read_csv(file_name)\n",
    "\n",
    "    df = standardize_dataframe(df, timestamp_column=\"timestamp\")\n",
    "\n",
    "    nan_count = int(df['heart_rates'].isna().sum())\n",
    "    nan_counts[day] = nan_count\n",
    "    \n",
    "    print(f\"{day}: {nan_count} NaN values\")"
   ]
  },
  {
   "cell_type": "code",
   "execution_count": 75,
   "id": "402e357a-dabb-4f7f-b542-e24ea4248270",
   "metadata": {},
   "outputs": [
    {
     "data": {
      "image/png": "[encoded data removed]",
      "text/plain": [
       "<Figure size 1000x400 with 1 Axes>"
      ]
     },
     "metadata": {},
     "output_type": "display_data"
    }
   ],
   "source": [
    "nan_df = pd.DataFrame(list(nan_counts.items()), columns=[\"Day\", \"NaN_Count\"])\n",
    "\n",
    "plt.figure(figsize=(10,4))\n",
    "plt.bar(nan_df[\"Day\"], nan_df[\"NaN_Count\"], color='skyblue')\n",
    "\n",
    "plt.axhline(y=0, color='gray', linestyle='--', linewidth=1)\n",
    "plt.xlabel(\"Day\")\n",
    "plt.ylabel(\"Number of NaN Values\")\n",
    "plt.title(\"NaN Values per Day\")\n",
    "plt.xticks(rotation=45, fontsize=8)\n",
    "plt.tight_layout()\n",
    "plt.grid(alpha=0.2)\n",
    "plt.show()"
   ]
  },
  {
   "cell_type": "code",
   "execution_count": 76,
   "id": "d515d34e-0c6d-472e-b42a-1a6dedbf63fc",
   "metadata": {},
   "outputs": [
    {
     "name": "stdout",
     "output_type": "stream",
     "text": [
      "{'2024-12-21': 490, '2024-12-22': 2, '2024-12-23': 0, '2024-12-24': 0, '2024-12-25': 138, '2024-12-26': 0, '2024-12-27': 72, '2024-12-28': 17, '2024-12-29': 0, '2024-12-30': 0, '2024-12-31': 0, '2025-01-01': 20, '2025-01-02': 0, '2025-01-03': 517}\n"
     ]
    }
   ],
   "source": [
    "print(nan_counts)"
   ]
  },
  {
   "cell_type": "code",
   "execution_count": 77,
   "id": "6bc4198b-fa49-41e8-8965-bd180f8dfd99",
   "metadata": {},
   "outputs": [
    {
     "name": "stdout",
     "output_type": "stream",
     "text": [
      "Processing day: 2024-12-22 (Valid rows: 718)\n",
      "Completed interpolation for 2024-12-22\n",
      "Processing day: 2024-12-23 (Valid rows: 720)\n",
      "Completed interpolation for 2024-12-23\n",
      "Processing day: 2024-12-24 (Valid rows: 720)\n",
      "Completed interpolation for 2024-12-24\n",
      "Processing day: 2024-12-26 (Valid rows: 720)\n",
      "Completed interpolation for 2024-12-26\n",
      "Processing day: 2024-12-28 (Valid rows: 703)\n",
      "Completed interpolation for 2024-12-28\n",
      "Processing day: 2024-12-29 (Valid rows: 720)\n",
      "Completed interpolation for 2024-12-29\n",
      "Processing day: 2024-12-30 (Valid rows: 720)\n",
      "Completed interpolation for 2024-12-30\n",
      "Processing day: 2024-12-31 (Valid rows: 720)\n",
      "Completed interpolation for 2024-12-31\n",
      "Processing day: 2025-01-01 (Valid rows: 700)\n",
      "Completed interpolation for 2025-01-01\n",
      "Processing day: 2025-01-02 (Valid rows: 720)\n",
      "Completed interpolation for 2025-01-02\n"
     ]
    }
   ],
   "source": [
    "threshold = 700\n",
    "\n",
    "for day, value in nan_counts.items():\n",
    "    valid_count = 720 - value\n",
    "\n",
    "    if valid_count >= threshold:\n",
    "        print(f\"Processing day: {day} (Valid rows: {valid_count})\")\n",
    "\n",
    "        df = pd.read_csv(f\"data/raw/heart_rates/{day}.csv\")\n",
    "        df = standardize_dataframe(df, timestamp_column=\"timestamp\")\n",
    "        \n",
    "        df['heart_rates'] = df['heart_rates'].interpolate(method='linear', limit_direction='both')\n",
    "\n",
    "        df.to_csv(f\"data/processed/heart_rates/{day}_completed.csv\")\n",
    "        print(f\"Completed interpolation for {day}\")"
   ]
  },
  {
   "cell_type": "code",
   "execution_count": 78,
   "id": "9eafc722-5c8a-4491-af86-d6bd26129cec",
   "metadata": {},
   "outputs": [],
   "source": [
    "csv_processed_files = glob.glob(\"data/processed/heart_rates/*.csv\")\n",
    "csv_processed_files = [csv_file.replace(\"\\\\\", \"/\") for csv_file in csv_processed_files]"
   ]
  },
  {
   "cell_type": "code",
   "execution_count": 79,
   "id": "7ee6b4a0-b555-4817-a97e-0379b6579357",
   "metadata": {},
   "outputs": [
    {
     "data": {
      "text/html": [
       "<div>\n",
       "<style scoped>\n",
       "    .dataframe tbody tr th:only-of-type {\n",
       "        vertical-align: middle;\n",
       "    }\n",
       "\n",
       "    .dataframe tbody tr th {\n",
       "        vertical-align: top;\n",
       "    }\n",
       "\n",
       "    .dataframe thead th {\n",
       "        text-align: right;\n",
       "    }\n",
       "</style>\n",
       "<table border=\"1\" class=\"dataframe\">\n",
       "  <thead>\n",
       "    <tr style=\"text-align: right;\">\n",
       "      <th></th>\n",
       "      <th>timestamp</th>\n",
       "      <th>heart_rates</th>\n",
       "      <th>date</th>\n",
       "    </tr>\n",
       "  </thead>\n",
       "  <tbody>\n",
       "    <tr>\n",
       "      <th>0</th>\n",
       "      <td>00:00:00</td>\n",
       "      <td>61.0</td>\n",
       "      <td>2024-12-22</td>\n",
       "    </tr>\n",
       "    <tr>\n",
       "      <th>1</th>\n",
       "      <td>00:02:00</td>\n",
       "      <td>64.0</td>\n",
       "      <td>2024-12-22</td>\n",
       "    </tr>\n",
       "    <tr>\n",
       "      <th>2</th>\n",
       "      <td>00:04:00</td>\n",
       "      <td>70.0</td>\n",
       "      <td>2024-12-22</td>\n",
       "    </tr>\n",
       "    <tr>\n",
       "      <th>3</th>\n",
       "      <td>00:06:00</td>\n",
       "      <td>66.0</td>\n",
       "      <td>2024-12-22</td>\n",
       "    </tr>\n",
       "    <tr>\n",
       "      <th>4</th>\n",
       "      <td>00:08:00</td>\n",
       "      <td>70.0</td>\n",
       "      <td>2024-12-22</td>\n",
       "    </tr>\n",
       "    <tr>\n",
       "      <th>...</th>\n",
       "      <td>...</td>\n",
       "      <td>...</td>\n",
       "      <td>...</td>\n",
       "    </tr>\n",
       "    <tr>\n",
       "      <th>7195</th>\n",
       "      <td>23:50:00</td>\n",
       "      <td>49.0</td>\n",
       "      <td>2025-01-02</td>\n",
       "    </tr>\n",
       "    <tr>\n",
       "      <th>7196</th>\n",
       "      <td>23:52:00</td>\n",
       "      <td>53.0</td>\n",
       "      <td>2025-01-02</td>\n",
       "    </tr>\n",
       "    <tr>\n",
       "      <th>7197</th>\n",
       "      <td>23:54:00</td>\n",
       "      <td>61.0</td>\n",
       "      <td>2025-01-02</td>\n",
       "    </tr>\n",
       "    <tr>\n",
       "      <th>7198</th>\n",
       "      <td>23:56:00</td>\n",
       "      <td>62.0</td>\n",
       "      <td>2025-01-02</td>\n",
       "    </tr>\n",
       "    <tr>\n",
       "      <th>7199</th>\n",
       "      <td>23:58:00</td>\n",
       "      <td>58.0</td>\n",
       "      <td>2025-01-02</td>\n",
       "    </tr>\n",
       "  </tbody>\n",
       "</table>\n",
       "<p>7200 rows × 3 columns</p>\n",
       "</div>"
      ],
      "text/plain": [
       "     timestamp  heart_rates        date\n",
       "0     00:00:00         61.0  2024-12-22\n",
       "1     00:02:00         64.0  2024-12-22\n",
       "2     00:04:00         70.0  2024-12-22\n",
       "3     00:06:00         66.0  2024-12-22\n",
       "4     00:08:00         70.0  2024-12-22\n",
       "...        ...          ...         ...\n",
       "7195  23:50:00         49.0  2025-01-02\n",
       "7196  23:52:00         53.0  2025-01-02\n",
       "7197  23:54:00         61.0  2025-01-02\n",
       "7198  23:56:00         62.0  2025-01-02\n",
       "7199  23:58:00         58.0  2025-01-02\n",
       "\n",
       "[7200 rows x 3 columns]"
      ]
     },
     "execution_count": 79,
     "metadata": {},
     "output_type": "execute_result"
    }
   ],
   "source": [
    "all_data = pd.concat(\n",
    "    (pd.read_csv(file).assign(date=file.split('/')[-1].replace('_completed.csv', '')) for file in csv_processed_files),\n",
    "    ignore_index=True\n",
    ")\n",
    "\n",
    "\n",
    "all_data"
   ]
  },
  {
   "cell_type": "markdown",
   "id": "8892d9e0-d172-4763-9dba-d0a7a29aa23c",
   "metadata": {},
   "source": [
    "### Calculate Average Heart Rate for 3-Hour Time Slots\n",
    "\n",
    "In this section, we will calculate the average heart rate for predefined 3-hour time slots throughout the day. To achieve this, we'll first create a new column in the dataset that assigns each timestamp to a specific time slot (e.g., 00:00-03:00 → 1st slot, 03:00-06:00 → 2nd slot, etc.). Once the time slots are assigned, we'll compute the average heart rate for each slot."
   ]
  },
  {
   "cell_type": "code",
   "execution_count": 80,
   "id": "d718dc3f-4da1-4841-8091-af2e7b529ec8",
   "metadata": {},
   "outputs": [
    {
     "data": {
      "text/html": [
       "<div>\n",
       "<style scoped>\n",
       "    .dataframe tbody tr th:only-of-type {\n",
       "        vertical-align: middle;\n",
       "    }\n",
       "\n",
       "    .dataframe tbody tr th {\n",
       "        vertical-align: top;\n",
       "    }\n",
       "\n",
       "    .dataframe thead th {\n",
       "        text-align: right;\n",
       "    }\n",
       "</style>\n",
       "<table border=\"1\" class=\"dataframe\">\n",
       "  <thead>\n",
       "    <tr style=\"text-align: right;\">\n",
       "      <th></th>\n",
       "      <th>time_slot</th>\n",
       "      <th>heart_rates</th>\n",
       "      <th>time</th>\n",
       "    </tr>\n",
       "  </thead>\n",
       "  <tbody>\n",
       "    <tr>\n",
       "      <th>0</th>\n",
       "      <td>1</td>\n",
       "      <td>59.924444</td>\n",
       "      <td>00:00-03:00</td>\n",
       "    </tr>\n",
       "    <tr>\n",
       "      <th>1</th>\n",
       "      <td>2</td>\n",
       "      <td>51.100556</td>\n",
       "      <td>03:00-06:00</td>\n",
       "    </tr>\n",
       "    <tr>\n",
       "      <th>2</th>\n",
       "      <td>3</td>\n",
       "      <td>53.885556</td>\n",
       "      <td>06:00-09:00</td>\n",
       "    </tr>\n",
       "    <tr>\n",
       "      <th>3</th>\n",
       "      <td>4</td>\n",
       "      <td>73.288889</td>\n",
       "      <td>09:00-12:00</td>\n",
       "    </tr>\n",
       "    <tr>\n",
       "      <th>4</th>\n",
       "      <td>5</td>\n",
       "      <td>69.523333</td>\n",
       "      <td>12:00-15:00</td>\n",
       "    </tr>\n",
       "    <tr>\n",
       "      <th>5</th>\n",
       "      <td>6</td>\n",
       "      <td>69.761111</td>\n",
       "      <td>15:00-18:00</td>\n",
       "    </tr>\n",
       "    <tr>\n",
       "      <th>6</th>\n",
       "      <td>7</td>\n",
       "      <td>76.165556</td>\n",
       "      <td>18:00-21:00</td>\n",
       "    </tr>\n",
       "    <tr>\n",
       "      <th>7</th>\n",
       "      <td>8</td>\n",
       "      <td>71.781111</td>\n",
       "      <td>21:00-00:00</td>\n",
       "    </tr>\n",
       "  </tbody>\n",
       "</table>\n",
       "</div>"
      ],
      "text/plain": [
       "   time_slot  heart_rates         time\n",
       "0          1    59.924444  00:00-03:00\n",
       "1          2    51.100556  03:00-06:00\n",
       "2          3    53.885556  06:00-09:00\n",
       "3          4    73.288889  09:00-12:00\n",
       "4          5    69.523333  12:00-15:00\n",
       "5          6    69.761111  15:00-18:00\n",
       "6          7    76.165556  18:00-21:00\n",
       "7          8    71.781111  21:00-00:00"
      ]
     },
     "execution_count": 80,
     "metadata": {},
     "output_type": "execute_result"
    }
   ],
   "source": [
    "times = {\n",
    "    1: \"00:00-03:00\",\n",
    "    2: \"03:00-06:00\",\n",
    "    3: \"06:00-09:00\",\n",
    "    4: \"09:00-12:00\",\n",
    "    5: \"12:00-15:00\",\n",
    "    6: \"15:00-18:00\",\n",
    "    7: \"18:00-21:00\",\n",
    "    8: \"21:00-00:00\"\n",
    "}\n",
    "\n",
    "def assign_time_slot(timestamp):\n",
    "    hour = int(timestamp.split(\":\")[0])\n",
    "    return (hour // 3) + 1\n",
    "\n",
    "def assign_time(time_slot):\n",
    "    return times[time_slot]\n",
    "\n",
    "all_data['time_slot'] = all_data['timestamp'].apply(assign_time_slot)\n",
    "\n",
    "average_heart_rate_by_slot = pd.DataFrame(all_data.groupby(['time_slot'])['heart_rates'].mean().reset_index())\n",
    "average_heart_rate_by_slot['time'] = average_heart_rate_by_slot['time_slot'].apply(assign_time)\n",
    "\n",
    "average_heart_rate_by_slot"
   ]
  },
  {
   "cell_type": "code",
   "execution_count": 81,
   "id": "b34fcc45-1fbd-45c2-81fe-e9956118d684",
   "metadata": {},
   "outputs": [
    {
     "data": {
      "image/png": "[encoded data removed]",
      "text/plain": [
       "<Figure size 1000x400 with 1 Axes>"
      ]
     },
     "metadata": {},
     "output_type": "display_data"
    }
   ],
   "source": [
    "average_heart_rate_by_slot = average_heart_rate_by_slot.sort_values(by='heart_rates', ascending=True)\n",
    "\n",
    "plt.figure(figsize=(10,4))\n",
    "\n",
    "plt.barh(average_heart_rate_by_slot[\"time\"], average_heart_rate_by_slot[\"heart_rates\"], color='skyblue')\n",
    "plt.xlabel(\"Average Heart Rate (BPM)\")\n",
    "plt.ylabel(\"Time Slot\")\n",
    "plt.title(\"Average Heart Rate by Time Slot (Descending Order)\")\n",
    "plt.grid(axis='x', linestyle='--', alpha=0.7)\n",
    "plt.tight_layout()\n",
    "plt.show()"
   ]
  },
  {
   "cell_type": "code",
   "execution_count": 102,
   "id": "687fde7b-7396-4c64-a4c0-0ace2bfaafab",
   "metadata": {},
   "outputs": [
    {
     "name": "stdout",
     "output_type": "stream",
     "text": [
      "Time slot with lowest average heart rate: 03:00-06:00\n"
     ]
    }
   ],
   "source": [
    "min_heart_rate_idx = average_heart_rate_by_slot[\"heart_rates\"].idxmin()\n",
    "lowest_heart_rate_slot = average_heart_rate_by_slot.loc[min_heart_rate_idx, \"time\"]\n",
    "\n",
    "print(f\"Time slot with lowest average heart rate: {lowest_heart_rate_slot}\")"
   ]
  },
  {
   "cell_type": "markdown",
   "id": "1f5fcf97-80ba-4cc0-b8fd-27c100989889",
   "metadata": {},
   "source": [
    "### Analyzing the Relationship Between Lowest Heart Rate Time Slot and Deep Sleep\n",
    "\n",
    "In this section, we aim to investigate whether the time slot with the lowest average heart rate corresponds to periods of deep sleep."
   ]
  },
  {
   "cell_type": "code",
   "execution_count": 82,
   "id": "faf627fb-c89f-4e91-8fd5-0f5afb8a2882",
   "metadata": {},
   "outputs": [],
   "source": [
    "sleep_data_files = glob.glob(\"data/raw/sleep/*.csv\")\n",
    "sleep_data_files = [sleep_file.replace(\"\\\\\", \"/\") for sleep_file in sleep_data_files]"
   ]
  },
  {
   "cell_type": "code",
   "execution_count": 83,
   "id": "a9d3b8b9-0955-4893-972f-711ee568f811",
   "metadata": {},
   "outputs": [
    {
     "data": {
      "text/html": [
       "<div>\n",
       "<style scoped>\n",
       "    .dataframe tbody tr th:only-of-type {\n",
       "        vertical-align: middle;\n",
       "    }\n",
       "\n",
       "    .dataframe tbody tr th {\n",
       "        vertical-align: top;\n",
       "    }\n",
       "\n",
       "    .dataframe thead th {\n",
       "        text-align: right;\n",
       "    }\n",
       "</style>\n",
       "<table border=\"1\" class=\"dataframe\">\n",
       "  <thead>\n",
       "    <tr style=\"text-align: right;\">\n",
       "      <th></th>\n",
       "      <th>start_time</th>\n",
       "      <th>end_time</th>\n",
       "      <th>sleep_type</th>\n",
       "      <th>date</th>\n",
       "    </tr>\n",
       "  </thead>\n",
       "  <tbody>\n",
       "    <tr>\n",
       "      <th>0</th>\n",
       "      <td>2024-12-22T01:00:00.0</td>\n",
       "      <td>2024-12-22T01:12:00.0</td>\n",
       "      <td>1.0</td>\n",
       "      <td>2024-12-22</td>\n",
       "    </tr>\n",
       "    <tr>\n",
       "      <th>1</th>\n",
       "      <td>2024-12-22T01:12:00.0</td>\n",
       "      <td>2024-12-22T01:57:00.0</td>\n",
       "      <td>0.0</td>\n",
       "      <td>2024-12-22</td>\n",
       "    </tr>\n",
       "    <tr>\n",
       "      <th>2</th>\n",
       "      <td>2024-12-22T01:57:00.0</td>\n",
       "      <td>2024-12-22T01:59:00.0</td>\n",
       "      <td>3.0</td>\n",
       "      <td>2024-12-22</td>\n",
       "    </tr>\n",
       "    <tr>\n",
       "      <th>3</th>\n",
       "      <td>2024-12-22T01:59:00.0</td>\n",
       "      <td>2024-12-22T02:46:00.0</td>\n",
       "      <td>1.0</td>\n",
       "      <td>2024-12-22</td>\n",
       "    </tr>\n",
       "    <tr>\n",
       "      <th>4</th>\n",
       "      <td>2024-12-22T02:46:00.0</td>\n",
       "      <td>2024-12-22T02:55:00.0</td>\n",
       "      <td>0.0</td>\n",
       "      <td>2024-12-22</td>\n",
       "    </tr>\n",
       "  </tbody>\n",
       "</table>\n",
       "</div>"
      ],
      "text/plain": [
       "              start_time               end_time  sleep_type        date\n",
       "0  2024-12-22T01:00:00.0  2024-12-22T01:12:00.0         1.0  2024-12-22\n",
       "1  2024-12-22T01:12:00.0  2024-12-22T01:57:00.0         0.0  2024-12-22\n",
       "2  2024-12-22T01:57:00.0  2024-12-22T01:59:00.0         3.0  2024-12-22\n",
       "3  2024-12-22T01:59:00.0  2024-12-22T02:46:00.0         1.0  2024-12-22\n",
       "4  2024-12-22T02:46:00.0  2024-12-22T02:55:00.0         0.0  2024-12-22"
      ]
     },
     "execution_count": 83,
     "metadata": {},
     "output_type": "execute_result"
    }
   ],
   "source": [
    "sleep_dataframes = [\n",
    "    pd.read_csv(file).assign(date=file.split('/')[-1].replace('.csv', ''))\n",
    "    for file in sleep_data_files\n",
    "    if not pd.read_csv(file).empty  # Escludi DataFrame vuoti\n",
    "]\n",
    "\n",
    "if sleep_dataframes:\n",
    "    all_sleep_data = pd.concat(sleep_dataframes, ignore_index=True)\n",
    "else:\n",
    "    all_sleep_data = pd.DataFrame()\n",
    "\n",
    "all_sleep_data.head()"
   ]
  },
  {
   "cell_type": "code",
   "execution_count": 84,
   "id": "2824d7b5-1ec9-4092-aa86-bb6d40d7ee1b",
   "metadata": {},
   "outputs": [
    {
     "data": {
      "text/html": [
       "<div>\n",
       "<style scoped>\n",
       "    .dataframe tbody tr th:only-of-type {\n",
       "        vertical-align: middle;\n",
       "    }\n",
       "\n",
       "    .dataframe tbody tr th {\n",
       "        vertical-align: top;\n",
       "    }\n",
       "\n",
       "    .dataframe thead th {\n",
       "        text-align: right;\n",
       "    }\n",
       "</style>\n",
       "<table border=\"1\" class=\"dataframe\">\n",
       "  <thead>\n",
       "    <tr style=\"text-align: right;\">\n",
       "      <th></th>\n",
       "      <th>start_time</th>\n",
       "      <th>end_time</th>\n",
       "      <th>sleep_type</th>\n",
       "      <th>date</th>\n",
       "    </tr>\n",
       "  </thead>\n",
       "  <tbody>\n",
       "    <tr>\n",
       "      <th>0</th>\n",
       "      <td>02:00:00</td>\n",
       "      <td>02:12:00</td>\n",
       "      <td>1.0</td>\n",
       "      <td>2024-12-22</td>\n",
       "    </tr>\n",
       "    <tr>\n",
       "      <th>1</th>\n",
       "      <td>02:12:00</td>\n",
       "      <td>02:57:00</td>\n",
       "      <td>0.0</td>\n",
       "      <td>2024-12-22</td>\n",
       "    </tr>\n",
       "    <tr>\n",
       "      <th>2</th>\n",
       "      <td>02:57:00</td>\n",
       "      <td>02:59:00</td>\n",
       "      <td>3.0</td>\n",
       "      <td>2024-12-22</td>\n",
       "    </tr>\n",
       "    <tr>\n",
       "      <th>3</th>\n",
       "      <td>02:59:00</td>\n",
       "      <td>03:46:00</td>\n",
       "      <td>1.0</td>\n",
       "      <td>2024-12-22</td>\n",
       "    </tr>\n",
       "    <tr>\n",
       "      <th>4</th>\n",
       "      <td>03:46:00</td>\n",
       "      <td>03:55:00</td>\n",
       "      <td>0.0</td>\n",
       "      <td>2024-12-22</td>\n",
       "    </tr>\n",
       "  </tbody>\n",
       "</table>\n",
       "</div>"
      ],
      "text/plain": [
       "  start_time  end_time  sleep_type        date\n",
       "0   02:00:00  02:12:00         1.0  2024-12-22\n",
       "1   02:12:00  02:57:00         0.0  2024-12-22\n",
       "2   02:57:00  02:59:00         3.0  2024-12-22\n",
       "3   02:59:00  03:46:00         1.0  2024-12-22\n",
       "4   03:46:00  03:55:00         0.0  2024-12-22"
      ]
     },
     "execution_count": 84,
     "metadata": {},
     "output_type": "execute_result"
    }
   ],
   "source": [
    "def convert_to_local_time(timestamp):\n",
    "    time = pd.to_datetime(timestamp)\n",
    "    time += pd.Timedelta(hours=1)\n",
    "    return time.strftime(\"%H:%M:%S\")\n",
    "\n",
    "all_sleep_data[\"start_time\"] = all_sleep_data[\"start_time\"].apply(convert_to_local_time)\n",
    "all_sleep_data[\"end_time\"] = all_sleep_data[\"end_time\"].apply(convert_to_local_time)\n",
    "\n",
    "all_sleep_data.head()"
   ]
  },
  {
   "cell_type": "code",
   "execution_count": 85,
   "id": "21787d33-97fe-4411-b303-271662700ab5",
   "metadata": {},
   "outputs": [
    {
     "data": {
      "text/plain": [
       "start_time     object\n",
       "end_time       object\n",
       "sleep_type    float64\n",
       "date           object\n",
       "dtype: object"
      ]
     },
     "execution_count": 85,
     "metadata": {},
     "output_type": "execute_result"
    }
   ],
   "source": [
    "all_sleep_data.dtypes"
   ]
  },
  {
   "cell_type": "code",
   "execution_count": 86,
   "id": "229bc049-446b-405b-9052-a3742c4413f0",
   "metadata": {},
   "outputs": [],
   "source": [
    "time_slots = {\n",
    "    \"00:00-03:00\": (0, 3),\n",
    "    \"03:00-06:00\": (3, 6),\n",
    "    \"06:00-09:00\": (6, 9),\n",
    "    \"09:00-12:00\": (9, 12),\n",
    "    \"12:00-15:00\": (12, 15),\n",
    "    \"15:00-18:00\": (15, 18),\n",
    "    \"18:00-21:00\": (18, 21),\n",
    "    \"21:00-00:00\": (21, 24),\n",
    "}\n",
    "\n",
    "def split_time_slot(row, time_slots):\n",
    "    start_time = pd.to_datetime(row['start_time'])\n",
    "    end_time = pd.to_datetime(row['end_time'])\n",
    "    intervals = []\n",
    "\n",
    "    for slot, (start_hour, end_hour) in time_slots.items():\n",
    "        slot_start = start_time.replace(hour=start_hour, minute=0, second=0, microsecond=0)\n",
    "        \n",
    "        if end_hour == 24:\n",
    "            slot_end = start_time.replace(hour=23, minute=59, second=59, microsecond=0)\n",
    "        else:\n",
    "            slot_end = start_time.replace(hour=end_hour, minute=0, second=0, microsecond=0)\n",
    "\n",
    "        # print(slot_start, slot_end)\n",
    "\n",
    "        overlap_start = max(start_time, slot_start)\n",
    "        overlap_end = min(end_time, slot_end) \n",
    "\n",
    "        if overlap_start < overlap_end: \n",
    "            duration = (overlap_end - overlap_start).total_seconds() / 60\n",
    "            intervals.append({\"time_slot\": slot, \"duration\": duration})\n",
    "\n",
    "    return intervals"
   ]
  },
  {
   "cell_type": "code",
   "execution_count": 87,
   "id": "51fd7bc8-d2bb-4616-93f5-0909fe06cf7b",
   "metadata": {},
   "outputs": [
    {
     "data": {
      "text/html": [
       "<div>\n",
       "<style scoped>\n",
       "    .dataframe tbody tr th:only-of-type {\n",
       "        vertical-align: middle;\n",
       "    }\n",
       "\n",
       "    .dataframe tbody tr th {\n",
       "        vertical-align: top;\n",
       "    }\n",
       "\n",
       "    .dataframe thead th {\n",
       "        text-align: right;\n",
       "    }\n",
       "</style>\n",
       "<table border=\"1\" class=\"dataframe\">\n",
       "  <thead>\n",
       "    <tr style=\"text-align: right;\">\n",
       "      <th></th>\n",
       "      <th>start_time</th>\n",
       "      <th>end_time</th>\n",
       "      <th>sleep_type</th>\n",
       "      <th>date</th>\n",
       "      <th>split_slots</th>\n",
       "    </tr>\n",
       "  </thead>\n",
       "  <tbody>\n",
       "    <tr>\n",
       "      <th>0</th>\n",
       "      <td>02:00:00</td>\n",
       "      <td>02:12:00</td>\n",
       "      <td>1.0</td>\n",
       "      <td>2024-12-22</td>\n",
       "      <td>[{'time_slot': '00:00-03:00', 'duration': 12.0}]</td>\n",
       "    </tr>\n",
       "    <tr>\n",
       "      <th>1</th>\n",
       "      <td>02:12:00</td>\n",
       "      <td>02:57:00</td>\n",
       "      <td>0.0</td>\n",
       "      <td>2024-12-22</td>\n",
       "      <td>[{'time_slot': '00:00-03:00', 'duration': 45.0}]</td>\n",
       "    </tr>\n",
       "    <tr>\n",
       "      <th>2</th>\n",
       "      <td>02:57:00</td>\n",
       "      <td>02:59:00</td>\n",
       "      <td>3.0</td>\n",
       "      <td>2024-12-22</td>\n",
       "      <td>[{'time_slot': '00:00-03:00', 'duration': 2.0}]</td>\n",
       "    </tr>\n",
       "    <tr>\n",
       "      <th>3</th>\n",
       "      <td>02:59:00</td>\n",
       "      <td>03:46:00</td>\n",
       "      <td>1.0</td>\n",
       "      <td>2024-12-22</td>\n",
       "      <td>[{'time_slot': '00:00-03:00', 'duration': 1.0}...</td>\n",
       "    </tr>\n",
       "    <tr>\n",
       "      <th>4</th>\n",
       "      <td>03:46:00</td>\n",
       "      <td>03:55:00</td>\n",
       "      <td>0.0</td>\n",
       "      <td>2024-12-22</td>\n",
       "      <td>[{'time_slot': '03:00-06:00', 'duration': 9.0}]</td>\n",
       "    </tr>\n",
       "  </tbody>\n",
       "</table>\n",
       "</div>"
      ],
      "text/plain": [
       "  start_time  end_time  sleep_type        date  \\\n",
       "0   02:00:00  02:12:00         1.0  2024-12-22   \n",
       "1   02:12:00  02:57:00         0.0  2024-12-22   \n",
       "2   02:57:00  02:59:00         3.0  2024-12-22   \n",
       "3   02:59:00  03:46:00         1.0  2024-12-22   \n",
       "4   03:46:00  03:55:00         0.0  2024-12-22   \n",
       "\n",
       "                                         split_slots  \n",
       "0   [{'time_slot': '00:00-03:00', 'duration': 12.0}]  \n",
       "1   [{'time_slot': '00:00-03:00', 'duration': 45.0}]  \n",
       "2    [{'time_slot': '00:00-03:00', 'duration': 2.0}]  \n",
       "3  [{'time_slot': '00:00-03:00', 'duration': 1.0}...  \n",
       "4    [{'time_slot': '03:00-06:00', 'duration': 9.0}]  "
      ]
     },
     "execution_count": 87,
     "metadata": {},
     "output_type": "execute_result"
    }
   ],
   "source": [
    "all_sleep_data['split_slots'] = all_sleep_data.apply(lambda row: split_time_slot(row, time_slots), axis=1)\n",
    "\n",
    "all_sleep_data.head()"
   ]
  },
  {
   "cell_type": "code",
   "execution_count": 88,
   "id": "7fef3020-f263-4817-ba2b-def38edcbd8a",
   "metadata": {},
   "outputs": [
    {
     "data": {
      "text/html": [
       "<div>\n",
       "<style scoped>\n",
       "    .dataframe tbody tr th:only-of-type {\n",
       "        vertical-align: middle;\n",
       "    }\n",
       "\n",
       "    .dataframe tbody tr th {\n",
       "        vertical-align: top;\n",
       "    }\n",
       "\n",
       "    .dataframe thead th {\n",
       "        text-align: right;\n",
       "    }\n",
       "</style>\n",
       "<table border=\"1\" class=\"dataframe\">\n",
       "  <thead>\n",
       "    <tr style=\"text-align: right;\">\n",
       "      <th></th>\n",
       "      <th>start_time</th>\n",
       "      <th>end_time</th>\n",
       "      <th>sleep_type</th>\n",
       "      <th>date</th>\n",
       "      <th>split_slots</th>\n",
       "    </tr>\n",
       "  </thead>\n",
       "  <tbody>\n",
       "    <tr>\n",
       "      <th>0</th>\n",
       "      <td>02:00:00</td>\n",
       "      <td>02:12:00</td>\n",
       "      <td>1.0</td>\n",
       "      <td>2024-12-22</td>\n",
       "      <td>{'time_slot': '00:00-03:00', 'duration': 12.0}</td>\n",
       "    </tr>\n",
       "    <tr>\n",
       "      <th>1</th>\n",
       "      <td>02:12:00</td>\n",
       "      <td>02:57:00</td>\n",
       "      <td>0.0</td>\n",
       "      <td>2024-12-22</td>\n",
       "      <td>{'time_slot': '00:00-03:00', 'duration': 45.0}</td>\n",
       "    </tr>\n",
       "    <tr>\n",
       "      <th>2</th>\n",
       "      <td>02:57:00</td>\n",
       "      <td>02:59:00</td>\n",
       "      <td>3.0</td>\n",
       "      <td>2024-12-22</td>\n",
       "      <td>{'time_slot': '00:00-03:00', 'duration': 2.0}</td>\n",
       "    </tr>\n",
       "    <tr>\n",
       "      <th>3</th>\n",
       "      <td>02:59:00</td>\n",
       "      <td>03:46:00</td>\n",
       "      <td>1.0</td>\n",
       "      <td>2024-12-22</td>\n",
       "      <td>{'time_slot': '00:00-03:00', 'duration': 1.0}</td>\n",
       "    </tr>\n",
       "    <tr>\n",
       "      <th>4</th>\n",
       "      <td>02:59:00</td>\n",
       "      <td>03:46:00</td>\n",
       "      <td>1.0</td>\n",
       "      <td>2024-12-22</td>\n",
       "      <td>{'time_slot': '03:00-06:00', 'duration': 46.0}</td>\n",
       "    </tr>\n",
       "  </tbody>\n",
       "</table>\n",
       "</div>"
      ],
      "text/plain": [
       "  start_time  end_time  sleep_type        date  \\\n",
       "0   02:00:00  02:12:00         1.0  2024-12-22   \n",
       "1   02:12:00  02:57:00         0.0  2024-12-22   \n",
       "2   02:57:00  02:59:00         3.0  2024-12-22   \n",
       "3   02:59:00  03:46:00         1.0  2024-12-22   \n",
       "4   02:59:00  03:46:00         1.0  2024-12-22   \n",
       "\n",
       "                                      split_slots  \n",
       "0  {'time_slot': '00:00-03:00', 'duration': 12.0}  \n",
       "1  {'time_slot': '00:00-03:00', 'duration': 45.0}  \n",
       "2   {'time_slot': '00:00-03:00', 'duration': 2.0}  \n",
       "3   {'time_slot': '00:00-03:00', 'duration': 1.0}  \n",
       "4  {'time_slot': '03:00-06:00', 'duration': 46.0}  "
      ]
     },
     "execution_count": 88,
     "metadata": {},
     "output_type": "execute_result"
    }
   ],
   "source": [
    "all_sleep_data = all_sleep_data.explode(\"split_slots\").reset_index(drop=True)\n",
    "all_sleep_data.head()"
   ]
  },
  {
   "cell_type": "code",
   "execution_count": 91,
   "id": "a84b30f7-b75a-410a-993a-222225c394db",
   "metadata": {},
   "outputs": [
    {
     "data": {
      "text/html": [
       "<div>\n",
       "<style scoped>\n",
       "    .dataframe tbody tr th:only-of-type {\n",
       "        vertical-align: middle;\n",
       "    }\n",
       "\n",
       "    .dataframe tbody tr th {\n",
       "        vertical-align: top;\n",
       "    }\n",
       "\n",
       "    .dataframe thead th {\n",
       "        text-align: right;\n",
       "    }\n",
       "</style>\n",
       "<table border=\"1\" class=\"dataframe\">\n",
       "  <thead>\n",
       "    <tr style=\"text-align: right;\">\n",
       "      <th></th>\n",
       "      <th>start_time</th>\n",
       "      <th>end_time</th>\n",
       "      <th>sleep_type</th>\n",
       "      <th>date</th>\n",
       "      <th>time_slot</th>\n",
       "      <th>duration</th>\n",
       "    </tr>\n",
       "  </thead>\n",
       "  <tbody>\n",
       "    <tr>\n",
       "      <th>0</th>\n",
       "      <td>02:00:00</td>\n",
       "      <td>02:12:00</td>\n",
       "      <td>1.0</td>\n",
       "      <td>2024-12-22</td>\n",
       "      <td>00:00-03:00</td>\n",
       "      <td>12.0</td>\n",
       "    </tr>\n",
       "    <tr>\n",
       "      <th>1</th>\n",
       "      <td>02:12:00</td>\n",
       "      <td>02:57:00</td>\n",
       "      <td>0.0</td>\n",
       "      <td>2024-12-22</td>\n",
       "      <td>00:00-03:00</td>\n",
       "      <td>45.0</td>\n",
       "    </tr>\n",
       "    <tr>\n",
       "      <th>2</th>\n",
       "      <td>02:57:00</td>\n",
       "      <td>02:59:00</td>\n",
       "      <td>3.0</td>\n",
       "      <td>2024-12-22</td>\n",
       "      <td>00:00-03:00</td>\n",
       "      <td>2.0</td>\n",
       "    </tr>\n",
       "    <tr>\n",
       "      <th>3</th>\n",
       "      <td>02:59:00</td>\n",
       "      <td>03:46:00</td>\n",
       "      <td>1.0</td>\n",
       "      <td>2024-12-22</td>\n",
       "      <td>00:00-03:00</td>\n",
       "      <td>1.0</td>\n",
       "    </tr>\n",
       "    <tr>\n",
       "      <th>4</th>\n",
       "      <td>02:59:00</td>\n",
       "      <td>03:46:00</td>\n",
       "      <td>1.0</td>\n",
       "      <td>2024-12-22</td>\n",
       "      <td>03:00-06:00</td>\n",
       "      <td>46.0</td>\n",
       "    </tr>\n",
       "  </tbody>\n",
       "</table>\n",
       "</div>"
      ],
      "text/plain": [
       "  start_time  end_time  sleep_type        date    time_slot  duration\n",
       "0   02:00:00  02:12:00         1.0  2024-12-22  00:00-03:00      12.0\n",
       "1   02:12:00  02:57:00         0.0  2024-12-22  00:00-03:00      45.0\n",
       "2   02:57:00  02:59:00         3.0  2024-12-22  00:00-03:00       2.0\n",
       "3   02:59:00  03:46:00         1.0  2024-12-22  00:00-03:00       1.0\n",
       "4   02:59:00  03:46:00         1.0  2024-12-22  03:00-06:00      46.0"
      ]
     },
     "execution_count": 91,
     "metadata": {},
     "output_type": "execute_result"
    }
   ],
   "source": [
    "all_sleep_data[\"time_slot\"] = all_sleep_data[\"split_slots\"].apply(lambda x: x[\"time_slot\"] if pd.notnull(x) else None)\n",
    "all_sleep_data[\"duration\"] = all_sleep_data[\"split_slots\"].apply(lambda x: x[\"duration\"] if pd.notnull(x) else None)\n",
    "\n",
    "all_sleep_data = all_sleep_data.drop(columns=['split_slots'])\n",
    "all_sleep_data.head()"
   ]
  },
  {
   "cell_type": "code",
   "execution_count": 92,
   "id": "7c0c091c-00ea-49bd-a73f-e10a6ec17146",
   "metadata": {},
   "outputs": [],
   "source": [
    "output_path = \"data/processed/sleep/sleep_data_processed.csv\"\n",
    "all_sleep_data.to_csv(output_path, index=False)"
   ]
  },
  {
   "cell_type": "code",
   "execution_count": 93,
   "id": "96a49066-339a-4a94-9797-077eae0c45aa",
   "metadata": {},
   "outputs": [
    {
     "data": {
      "text/plain": [
       "start_time     object\n",
       "end_time       object\n",
       "sleep_type    float64\n",
       "date           object\n",
       "time_slot      object\n",
       "duration      float64\n",
       "dtype: object"
      ]
     },
     "execution_count": 93,
     "metadata": {},
     "output_type": "execute_result"
    }
   ],
   "source": [
    "processed_sleep_data = pd.read_csv(output_path)\n",
    "\n",
    "processed_sleep_data.dtypes"
   ]
  },
  {
   "cell_type": "code",
   "execution_count": 95,
   "id": "73b43f2a-64ce-4e8c-874b-279c50133860",
   "metadata": {},
   "outputs": [
    {
     "data": {
      "text/html": [
       "<div>\n",
       "<style scoped>\n",
       "    .dataframe tbody tr th:only-of-type {\n",
       "        vertical-align: middle;\n",
       "    }\n",
       "\n",
       "    .dataframe tbody tr th {\n",
       "        vertical-align: top;\n",
       "    }\n",
       "\n",
       "    .dataframe thead th {\n",
       "        text-align: right;\n",
       "    }\n",
       "</style>\n",
       "<table border=\"1\" class=\"dataframe\">\n",
       "  <thead>\n",
       "    <tr style=\"text-align: right;\">\n",
       "      <th></th>\n",
       "      <th>start_time</th>\n",
       "      <th>end_time</th>\n",
       "      <th>sleep_type</th>\n",
       "      <th>date</th>\n",
       "      <th>time_slot</th>\n",
       "      <th>duration</th>\n",
       "      <th>sleep_mode</th>\n",
       "    </tr>\n",
       "  </thead>\n",
       "  <tbody>\n",
       "    <tr>\n",
       "      <th>0</th>\n",
       "      <td>02:00:00</td>\n",
       "      <td>02:12:00</td>\n",
       "      <td>1.0</td>\n",
       "      <td>2024-12-22</td>\n",
       "      <td>00:00-03:00</td>\n",
       "      <td>12.0</td>\n",
       "      <td>Light</td>\n",
       "    </tr>\n",
       "    <tr>\n",
       "      <th>1</th>\n",
       "      <td>02:12:00</td>\n",
       "      <td>02:57:00</td>\n",
       "      <td>0.0</td>\n",
       "      <td>2024-12-22</td>\n",
       "      <td>00:00-03:00</td>\n",
       "      <td>45.0</td>\n",
       "      <td>Deep</td>\n",
       "    </tr>\n",
       "    <tr>\n",
       "      <th>2</th>\n",
       "      <td>02:57:00</td>\n",
       "      <td>02:59:00</td>\n",
       "      <td>3.0</td>\n",
       "      <td>2024-12-22</td>\n",
       "      <td>00:00-03:00</td>\n",
       "      <td>2.0</td>\n",
       "      <td>Awake</td>\n",
       "    </tr>\n",
       "    <tr>\n",
       "      <th>3</th>\n",
       "      <td>02:59:00</td>\n",
       "      <td>03:46:00</td>\n",
       "      <td>1.0</td>\n",
       "      <td>2024-12-22</td>\n",
       "      <td>00:00-03:00</td>\n",
       "      <td>1.0</td>\n",
       "      <td>Light</td>\n",
       "    </tr>\n",
       "    <tr>\n",
       "      <th>4</th>\n",
       "      <td>02:59:00</td>\n",
       "      <td>03:46:00</td>\n",
       "      <td>1.0</td>\n",
       "      <td>2024-12-22</td>\n",
       "      <td>03:00-06:00</td>\n",
       "      <td>46.0</td>\n",
       "      <td>Light</td>\n",
       "    </tr>\n",
       "  </tbody>\n",
       "</table>\n",
       "</div>"
      ],
      "text/plain": [
       "  start_time  end_time  sleep_type        date    time_slot  duration  \\\n",
       "0   02:00:00  02:12:00         1.0  2024-12-22  00:00-03:00      12.0   \n",
       "1   02:12:00  02:57:00         0.0  2024-12-22  00:00-03:00      45.0   \n",
       "2   02:57:00  02:59:00         3.0  2024-12-22  00:00-03:00       2.0   \n",
       "3   02:59:00  03:46:00         1.0  2024-12-22  00:00-03:00       1.0   \n",
       "4   02:59:00  03:46:00         1.0  2024-12-22  03:00-06:00      46.0   \n",
       "\n",
       "  sleep_mode  \n",
       "0      Light  \n",
       "1       Deep  \n",
       "2      Awake  \n",
       "3      Light  \n",
       "4      Light  "
      ]
     },
     "execution_count": 95,
     "metadata": {},
     "output_type": "execute_result"
    }
   ],
   "source": [
    "sleep_types_by_id = {\n",
    "    0: \"Deep\",\n",
    "    1: \"Light\",\n",
    "    2: \"Rem\",\n",
    "    3: \"Awake\"\n",
    "}\n",
    "\n",
    "def assign_sleep_type(value):\n",
    "    return sleep_types_by_id[int(value)]\n",
    "\n",
    "processed_sleep_data['sleep_mode'] = processed_sleep_data['sleep_type'].apply(assign_sleep_type)\n",
    "processed_sleep_data.head()"
   ]
  },
  {
   "cell_type": "code",
   "execution_count": 103,
   "id": "0c8a56fc-df56-4fd0-8a37-9abb07629b72",
   "metadata": {},
   "outputs": [
    {
     "name": "stdout",
     "output_type": "stream",
     "text": [
      "Total Deep Sleep (minutes): 1074.0\n",
      "Deep Sleep in Lowest Heart Rate Slot (minutes): 401.0\n"
     ]
    }
   ],
   "source": [
    "total_deep_sleep = processed_sleep_data.loc[processed_sleep_data[\"sleep_mode\"] == \"Deep\", \"duration\"].sum()\n",
    "\n",
    "deep_sleep_in_lowest_slot = processed_sleep_data.loc[\n",
    "    (processed_sleep_data[\"sleep_mode\"] == \"Deep\") & \n",
    "    (processed_sleep_data[\"time_slot\"] == lowest_heart_rate_slot), \n",
    "    \"duration\"\n",
    "].sum()\n",
    "\n",
    "print(\"Total Deep Sleep (minutes):\", total_deep_sleep)\n",
    "print(\"Deep Sleep in Lowest Heart Rate Slot (minutes):\", deep_sleep_in_lowest_slot)"
   ]
  },
  {
   "cell_type": "code",
   "execution_count": 105,
   "id": "f8c62dd5-f751-4481-975b-e982d80eebcc",
   "metadata": {},
   "outputs": [
    {
     "data": {
      "text/html": [
       "<div>\n",
       "<style scoped>\n",
       "    .dataframe tbody tr th:only-of-type {\n",
       "        vertical-align: middle;\n",
       "    }\n",
       "\n",
       "    .dataframe tbody tr th {\n",
       "        vertical-align: top;\n",
       "    }\n",
       "\n",
       "    .dataframe thead th {\n",
       "        text-align: right;\n",
       "    }\n",
       "</style>\n",
       "<table border=\"1\" class=\"dataframe\">\n",
       "  <thead>\n",
       "    <tr style=\"text-align: right;\">\n",
       "      <th></th>\n",
       "      <th>time_slot</th>\n",
       "      <th>duration</th>\n",
       "    </tr>\n",
       "  </thead>\n",
       "  <tbody>\n",
       "    <tr>\n",
       "      <th>0</th>\n",
       "      <td>00:00-03:00</td>\n",
       "      <td>460.0</td>\n",
       "    </tr>\n",
       "    <tr>\n",
       "      <th>1</th>\n",
       "      <td>03:00-06:00</td>\n",
       "      <td>401.0</td>\n",
       "    </tr>\n",
       "    <tr>\n",
       "      <th>3</th>\n",
       "      <td>21:00-00:00</td>\n",
       "      <td>111.0</td>\n",
       "    </tr>\n",
       "    <tr>\n",
       "      <th>2</th>\n",
       "      <td>06:00-09:00</td>\n",
       "      <td>102.0</td>\n",
       "    </tr>\n",
       "  </tbody>\n",
       "</table>\n",
       "</div>"
      ],
      "text/plain": [
       "     time_slot  duration\n",
       "0  00:00-03:00     460.0\n",
       "1  03:00-06:00     401.0\n",
       "3  21:00-00:00     111.0\n",
       "2  06:00-09:00     102.0"
      ]
     },
     "execution_count": 105,
     "metadata": {},
     "output_type": "execute_result"
    }
   ],
   "source": [
    "deep_sleep_data = processed_sleep_data.loc[processed_sleep_data[\"sleep_mode\"] == \"Deep\"]\n",
    "\n",
    "deep_sleep_by_slot = deep_sleep_data.groupby(\"time_slot\")[\"duration\"].sum().reset_index()\n",
    "\n",
    "deep_sleep_by_slot = deep_sleep_by_slot.sort_values(by='duration', ascending=False)\n",
    "\n",
    "deep_sleep_by_slot"
   ]
  },
  {
   "cell_type": "code",
   "execution_count": 109,
   "id": "265ad1b8-617d-41c6-b249-23be27ff9d3d",
   "metadata": {},
   "outputs": [
    {
     "name": "stdout",
     "output_type": "stream",
     "text": [
      "The time slot in which you tend to spend the most deep sleep DOESN'T coincide with the time slot in which you record the lowest average heart rate\n"
     ]
    }
   ],
   "source": [
    "best_slot_by_deep_sleep = deep_sleep_by_slot.iloc[0][\"time_slot\"]\n",
    "\n",
    "if best_slot_by_deep_sleep == lowest_heart_rate_slot:\n",
    "    print(\"The time slot in which you tend to spend the most deep sleep coincides with the time slot in which you record the lowest average heart rate\")\n",
    "else:\n",
    "    print(\"The time slot in which you tend to spend the most deep sleep DOESN'T coincide with the time slot in which you record the lowest average heart rate\")"
   ]
  },
  {
   "cell_type": "code",
   "execution_count": null,
   "id": "e44e611f-b697-44a6-b1c0-f4bcdbedb35f",
   "metadata": {},
   "outputs": [],
   "source": []
  }
 ],
 "metadata": {
  "kernelspec": {
   "display_name": "Python (GarminHeartRate)",
   "language": "python",
   "name": "garminheartrate"
  },
  "language_info": {
   "codemirror_mode": {
    "name": "ipython",
    "version": 3
   },
   "file_extension": ".py",
   "mimetype": "text/x-python",
   "name": "python",
   "nbconvert_exporter": "python",
   "pygments_lexer": "ipython3",
   "version": "3.13.1"
  }
 },
 "nbformat": 4,
 "nbformat_minor": 5
}
