{
 "cells": [
  {
   "cell_type": "code",
   "execution_count": 147,
   "id": "cac67289-caa5-429b-8752-6b5e0f63fd90",
   "metadata": {},
   "outputs": [],
   "source": [
    "import pandas as pd\n",
    "import matplotlib.pyplot as plt\n",
    "import glob"
   ]
  },
  {
   "cell_type": "code",
   "execution_count": 148,
   "id": "311746bc-46f0-441f-befc-04e726762a7a",
   "metadata": {},
   "outputs": [],
   "source": [
    "csv_files = glob.glob(\"data/raw/heart_rates/*.csv\")\n",
    "csv_files = [csv_file.replace(\"\\\\\", \"/\") for csv_file in csv_files]"
   ]
  },
  {
   "cell_type": "code",
   "execution_count": 149,
   "id": "8128d8aa-f506-448b-9818-8acef16010a6",
   "metadata": {},
   "outputs": [],
   "source": [
    "all_data = pd.concat(\n",
    "    (pd.read_csv(file).assign(date=file.split('/')[-1].replace('.csv', '')) for file in csv_files),\n",
    "    ignore_index=True\n",
    ")"
   ]
  },
  {
   "cell_type": "code",
   "execution_count": 150,
   "id": "dbaa2975-735f-4b4f-a05f-eda240a472e1",
   "metadata": {},
   "outputs": [
    {
     "data": {
      "text/html": [
       "<div>\n",
       "<style scoped>\n",
       "    .dataframe tbody tr th:only-of-type {\n",
       "        vertical-align: middle;\n",
       "    }\n",
       "\n",
       "    .dataframe tbody tr th {\n",
       "        vertical-align: top;\n",
       "    }\n",
       "\n",
       "    .dataframe thead th {\n",
       "        text-align: right;\n",
       "    }\n",
       "</style>\n",
       "<table border=\"1\" class=\"dataframe\">\n",
       "  <thead>\n",
       "    <tr style=\"text-align: right;\">\n",
       "      <th></th>\n",
       "      <th>timestamp</th>\n",
       "      <th>heart_rates</th>\n",
       "      <th>date</th>\n",
       "    </tr>\n",
       "  </thead>\n",
       "  <tbody>\n",
       "    <tr>\n",
       "      <th>0</th>\n",
       "      <td>14:58</td>\n",
       "      <td>69.0</td>\n",
       "      <td>2024-12-21</td>\n",
       "    </tr>\n",
       "    <tr>\n",
       "      <th>1</th>\n",
       "      <td>15:00</td>\n",
       "      <td>70.0</td>\n",
       "      <td>2024-12-21</td>\n",
       "    </tr>\n",
       "    <tr>\n",
       "      <th>2</th>\n",
       "      <td>15:02</td>\n",
       "      <td>66.0</td>\n",
       "      <td>2024-12-21</td>\n",
       "    </tr>\n",
       "    <tr>\n",
       "      <th>3</th>\n",
       "      <td>15:04</td>\n",
       "      <td>71.0</td>\n",
       "      <td>2024-12-21</td>\n",
       "    </tr>\n",
       "    <tr>\n",
       "      <th>4</th>\n",
       "      <td>15:06</td>\n",
       "      <td>75.0</td>\n",
       "      <td>2024-12-21</td>\n",
       "    </tr>\n",
       "  </tbody>\n",
       "</table>\n",
       "</div>"
      ],
      "text/plain": [
       "  timestamp  heart_rates        date\n",
       "0     14:58         69.0  2024-12-21\n",
       "1     15:00         70.0  2024-12-21\n",
       "2     15:02         66.0  2024-12-21\n",
       "3     15:04         71.0  2024-12-21\n",
       "4     15:06         75.0  2024-12-21"
      ]
     },
     "execution_count": 150,
     "metadata": {},
     "output_type": "execute_result"
    }
   ],
   "source": [
    "all_data.head()"
   ]
  },
  {
   "cell_type": "code",
   "execution_count": 151,
   "id": "311307e5-dd1d-4f1d-aab9-094dec796016",
   "metadata": {},
   "outputs": [
    {
     "data": {
      "text/html": [
       "<div>\n",
       "<style scoped>\n",
       "    .dataframe tbody tr th:only-of-type {\n",
       "        vertical-align: middle;\n",
       "    }\n",
       "\n",
       "    .dataframe tbody tr th {\n",
       "        vertical-align: top;\n",
       "    }\n",
       "\n",
       "    .dataframe thead th {\n",
       "        text-align: right;\n",
       "    }\n",
       "</style>\n",
       "<table border=\"1\" class=\"dataframe\">\n",
       "  <thead>\n",
       "    <tr style=\"text-align: right;\">\n",
       "      <th></th>\n",
       "      <th>timestamp</th>\n",
       "      <th>heart_rates</th>\n",
       "      <th>date</th>\n",
       "    </tr>\n",
       "  </thead>\n",
       "  <tbody>\n",
       "    <tr>\n",
       "      <th>8255</th>\n",
       "      <td>11:02</td>\n",
       "      <td>58.0</td>\n",
       "      <td>2025-01-02</td>\n",
       "    </tr>\n",
       "    <tr>\n",
       "      <th>8256</th>\n",
       "      <td>11:04</td>\n",
       "      <td>54.0</td>\n",
       "      <td>2025-01-02</td>\n",
       "    </tr>\n",
       "    <tr>\n",
       "      <th>8257</th>\n",
       "      <td>11:06</td>\n",
       "      <td>53.0</td>\n",
       "      <td>2025-01-02</td>\n",
       "    </tr>\n",
       "    <tr>\n",
       "      <th>8258</th>\n",
       "      <td>11:08</td>\n",
       "      <td>52.0</td>\n",
       "      <td>2025-01-02</td>\n",
       "    </tr>\n",
       "    <tr>\n",
       "      <th>8259</th>\n",
       "      <td>11:10</td>\n",
       "      <td>53.0</td>\n",
       "      <td>2025-01-02</td>\n",
       "    </tr>\n",
       "  </tbody>\n",
       "</table>\n",
       "</div>"
      ],
      "text/plain": [
       "     timestamp  heart_rates        date\n",
       "8255     11:02         58.0  2025-01-02\n",
       "8256     11:04         54.0  2025-01-02\n",
       "8257     11:06         53.0  2025-01-02\n",
       "8258     11:08         52.0  2025-01-02\n",
       "8259     11:10         53.0  2025-01-02"
      ]
     },
     "execution_count": 151,
     "metadata": {},
     "output_type": "execute_result"
    }
   ],
   "source": [
    "all_data.tail()"
   ]
  },
  {
   "cell_type": "code",
   "execution_count": 152,
   "id": "a92ec0ff-1537-446f-9a74-b79836878e75",
   "metadata": {},
   "outputs": [
    {
     "data": {
      "text/plain": [
       "timestamp       object\n",
       "heart_rates    float64\n",
       "date            object\n",
       "dtype: object"
      ]
     },
     "execution_count": 152,
     "metadata": {},
     "output_type": "execute_result"
    }
   ],
   "source": [
    "all_data.dtypes"
   ]
  },
  {
   "cell_type": "markdown",
   "id": "45d47b6d-d5e1-427a-aba4-acb32949c3d1",
   "metadata": {},
   "source": [
    "### Calculate the Average Heart Rate Value"
   ]
  },
  {
   "cell_type": "code",
   "execution_count": 175,
   "id": "ff87a47f-7959-4700-abcb-9c545ed87397",
   "metadata": {},
   "outputs": [
    {
     "name": "stdout",
     "output_type": "stream",
     "text": [
      "Average Heart Rate Value: 66.21\n"
     ]
    }
   ],
   "source": [
    "average_heart_rate_value = round(all_data['heart_rates'].mean(), 2)\n",
    "\n",
    "print(f\"Average Heart Rate Value: {average_heart_rate_value}\")"
   ]
  },
  {
   "cell_type": "markdown",
   "id": "6987df14-c765-43c2-bb7a-3eed345fff44",
   "metadata": {},
   "source": [
    "### Calculate the Maximum Recorded Value and the Minimum Recorded Value of the Heart Rate"
   ]
  },
  {
   "cell_type": "code",
   "execution_count": 178,
   "id": "d1692cdb-7910-47ad-b7ef-87e66fabe197",
   "metadata": {},
   "outputs": [
    {
     "name": "stdout",
     "output_type": "stream",
     "text": [
      "Maximum heart rate value: 167.0 recorded on 2024-12-22 at 15:36:00\n",
      "Minimum heart rate value: 40.0 recorded on 2024-12-22 at 00:28:00\n"
     ]
    }
   ],
   "source": [
    "maximum_heart_rate_value = all_data['heart_rates'].max()\n",
    "minimum_heart_rate_value = all_data['heart_rates'].min()\n",
    "\n",
    "max_index = all_data['heart_rates'].idxmax()\n",
    "min_index = all_data['heart_rates'].idxmin()\n",
    "\n",
    "max_date = all_data.loc[max_index, 'date']\n",
    "max_timestamp = all_data.loc[max_index, 'timestamp']\n",
    "\n",
    "min_date = all_data.loc[min_index, 'date']\n",
    "min_timestamp = all_data.loc[min_index, 'timestamp']\n",
    "\n",
    "print(f\"Maximum heart rate value: {maximum_heart_rate_value} recorded on {max_date} at {max_timestamp}\")\n",
    "print(f\"Minimum heart rate value: {minimum_heart_rate_value} recorded on {min_date} at {min_timestamp}\")"
   ]
  },
  {
   "cell_type": "code",
   "execution_count": 153,
   "id": "66b050f1-c9e7-4b5a-a1d2-fe76f049d362",
   "metadata": {},
   "outputs": [
    {
     "data": {
      "text/plain": [
       "timestamp       0\n",
       "heart_rates    23\n",
       "date            0\n",
       "dtype: int64"
      ]
     },
     "execution_count": 153,
     "metadata": {},
     "output_type": "execute_result"
    }
   ],
   "source": [
    "missing_values_counts = all_data.isna().sum()\n",
    "missing_values_counts"
   ]
  },
  {
   "cell_type": "code",
   "execution_count": 154,
   "id": "142fb378-fd86-4675-b38b-68719fcc3a2a",
   "metadata": {},
   "outputs": [],
   "source": [
    "def standardize_dataframe(df, timestamp_column):\n",
    "    df[timestamp_column] = pd.to_datetime(df[timestamp_column], format=\"%H:%M\").dt.time\n",
    "\n",
    "    expected_items = pd.date_range(start=\"00:00\", end=\"23:58\", freq=\"2min\").time\n",
    "    \n",
    "    df.set_index(timestamp_column, inplace=True)\n",
    "    df = df.reindex(expected_items)\n",
    "    \n",
    "    df.index.name = 'timestamp'\n",
    "    \n",
    "    return df\n"
   ]
  },
  {
   "cell_type": "code",
   "execution_count": 155,
   "id": "76514226-0b0e-426b-a05f-4d70dd69342e",
   "metadata": {},
   "outputs": [
    {
     "name": "stdout",
     "output_type": "stream",
     "text": [
      "2024-12-21: 490 NaN values\n",
      "2024-12-22: 2 NaN values\n",
      "2024-12-23: 0 NaN values\n",
      "2024-12-24: 0 NaN values\n",
      "2024-12-25: 138 NaN values\n",
      "2024-12-26: 0 NaN values\n",
      "2024-12-27: 72 NaN values\n",
      "2024-12-28: 17 NaN values\n",
      "2024-12-29: 0 NaN values\n",
      "2024-12-30: 0 NaN values\n",
      "2024-12-31: 0 NaN values\n",
      "2025-01-01: 20 NaN values\n",
      "2025-01-02: 384 NaN values\n"
     ]
    }
   ],
   "source": [
    "nan_counts = {}\n",
    "\n",
    "for file_name in csv_files:\n",
    "    day = file_name.split(\"/\")[-1].replace(\".csv\", \"\")\n",
    "    df = pd.read_csv(file_name)\n",
    "\n",
    "    df = standardize_dataframe(df, timestamp_column=\"timestamp\")\n",
    "\n",
    "    nan_count = int(df['heart_rates'].isna().sum())\n",
    "    nan_counts[day] = nan_count\n",
    "    \n",
    "    print(f\"{day}: {nan_count} NaN values\")"
   ]
  },
  {
   "cell_type": "code",
   "execution_count": 156,
   "id": "402e357a-dabb-4f7f-b542-e24ea4248270",
   "metadata": {},
   "outputs": [
    {
     "data": {
      "image/png": "[encoded data removed]",
      "text/plain": [
       "<Figure size 1000x400 with 1 Axes>"
      ]
     },
     "metadata": {},
     "output_type": "display_data"
    }
   ],
   "source": [
    "nan_df = pd.DataFrame(list(nan_counts.items()), columns=[\"Day\", \"NaN_Count\"])\n",
    "\n",
    "plt.figure(figsize=(10,4))\n",
    "plt.bar(nan_df[\"Day\"], nan_df[\"NaN_Count\"], color='skyblue')\n",
    "\n",
    "plt.axhline(y=0, color='gray', linestyle='--', linewidth=1)\n",
    "plt.xlabel(\"Day\")\n",
    "plt.ylabel(\"Number of NaN Values\")\n",
    "plt.title(\"NaN Values per Day\")\n",
    "plt.xticks(rotation=45, fontsize=8)\n",
    "plt.tight_layout()\n",
    "plt.grid(alpha=0.2)\n",
    "plt.show()"
   ]
  },
  {
   "cell_type": "code",
   "execution_count": 157,
   "id": "d515d34e-0c6d-472e-b42a-1a6dedbf63fc",
   "metadata": {},
   "outputs": [
    {
     "name": "stdout",
     "output_type": "stream",
     "text": [
      "{'2024-12-21': 490, '2024-12-22': 2, '2024-12-23': 0, '2024-12-24': 0, '2024-12-25': 138, '2024-12-26': 0, '2024-12-27': 72, '2024-12-28': 17, '2024-12-29': 0, '2024-12-30': 0, '2024-12-31': 0, '2025-01-01': 20, '2025-01-02': 384}\n"
     ]
    }
   ],
   "source": [
    "print(nan_counts)"
   ]
  },
  {
   "cell_type": "code",
   "execution_count": 158,
   "id": "6bc4198b-fa49-41e8-8965-bd180f8dfd99",
   "metadata": {},
   "outputs": [
    {
     "name": "stdout",
     "output_type": "stream",
     "text": [
      "Processing day: 2024-12-22 (Valid rows: 718)\n",
      "Completed interpolation for 2024-12-22\n",
      "Processing day: 2024-12-23 (Valid rows: 720)\n",
      "Completed interpolation for 2024-12-23\n",
      "Processing day: 2024-12-24 (Valid rows: 720)\n",
      "Completed interpolation for 2024-12-24\n",
      "Processing day: 2024-12-26 (Valid rows: 720)\n",
      "Completed interpolation for 2024-12-26\n",
      "Processing day: 2024-12-28 (Valid rows: 703)\n",
      "Completed interpolation for 2024-12-28\n",
      "Processing day: 2024-12-29 (Valid rows: 720)\n",
      "Completed interpolation for 2024-12-29\n",
      "Processing day: 2024-12-30 (Valid rows: 720)\n",
      "Completed interpolation for 2024-12-30\n",
      "Processing day: 2024-12-31 (Valid rows: 720)\n",
      "Completed interpolation for 2024-12-31\n",
      "Processing day: 2025-01-01 (Valid rows: 700)\n",
      "Completed interpolation for 2025-01-01\n"
     ]
    }
   ],
   "source": [
    "threshold = 700\n",
    "\n",
    "for day, value in nan_counts.items():\n",
    "    valid_count = 720 - value\n",
    "\n",
    "    if valid_count >= threshold:\n",
    "        print(f\"Processing day: {day} (Valid rows: {valid_count})\")\n",
    "\n",
    "        df = pd.read_csv(f\"data/raw/heart_rates/{day}.csv\")\n",
    "        df = standardize_dataframe(df, timestamp_column=\"timestamp\")\n",
    "        \n",
    "        df['heart_rates'] = df['heart_rates'].interpolate(method='linear', limit_direction='both')\n",
    "\n",
    "        df.to_csv(f\"data/processed/heart_rates/{day}_completed.csv\")\n",
    "        print(f\"Completed interpolation for {day}\")"
   ]
  },
  {
   "cell_type": "code",
   "execution_count": 165,
   "id": "9eafc722-5c8a-4491-af86-d6bd26129cec",
   "metadata": {},
   "outputs": [],
   "source": [
    "csv_processed_files = glob.glob(\"data/processed/heart_rates/*.csv\")\n",
    "csv_processed_files = [csv_file.replace(\"\\\\\", \"/\") for csv_file in csv_processed_files]"
   ]
  },
  {
   "cell_type": "code",
   "execution_count": 171,
   "id": "7ee6b4a0-b555-4817-a97e-0379b6579357",
   "metadata": {},
   "outputs": [
    {
     "data": {
      "text/html": [
       "<div>\n",
       "<style scoped>\n",
       "    .dataframe tbody tr th:only-of-type {\n",
       "        vertical-align: middle;\n",
       "    }\n",
       "\n",
       "    .dataframe tbody tr th {\n",
       "        vertical-align: top;\n",
       "    }\n",
       "\n",
       "    .dataframe thead th {\n",
       "        text-align: right;\n",
       "    }\n",
       "</style>\n",
       "<table border=\"1\" class=\"dataframe\">\n",
       "  <thead>\n",
       "    <tr style=\"text-align: right;\">\n",
       "      <th></th>\n",
       "      <th>timestamp</th>\n",
       "      <th>heart_rates</th>\n",
       "      <th>date</th>\n",
       "    </tr>\n",
       "  </thead>\n",
       "  <tbody>\n",
       "    <tr>\n",
       "      <th>0</th>\n",
       "      <td>00:00:00</td>\n",
       "      <td>61.0</td>\n",
       "      <td>2024-12-22</td>\n",
       "    </tr>\n",
       "    <tr>\n",
       "      <th>1</th>\n",
       "      <td>00:02:00</td>\n",
       "      <td>64.0</td>\n",
       "      <td>2024-12-22</td>\n",
       "    </tr>\n",
       "    <tr>\n",
       "      <th>2</th>\n",
       "      <td>00:04:00</td>\n",
       "      <td>70.0</td>\n",
       "      <td>2024-12-22</td>\n",
       "    </tr>\n",
       "    <tr>\n",
       "      <th>3</th>\n",
       "      <td>00:06:00</td>\n",
       "      <td>66.0</td>\n",
       "      <td>2024-12-22</td>\n",
       "    </tr>\n",
       "    <tr>\n",
       "      <th>4</th>\n",
       "      <td>00:08:00</td>\n",
       "      <td>70.0</td>\n",
       "      <td>2024-12-22</td>\n",
       "    </tr>\n",
       "    <tr>\n",
       "      <th>...</th>\n",
       "      <td>...</td>\n",
       "      <td>...</td>\n",
       "      <td>...</td>\n",
       "    </tr>\n",
       "    <tr>\n",
       "      <th>6475</th>\n",
       "      <td>23:50:00</td>\n",
       "      <td>52.0</td>\n",
       "      <td>2025-01-01</td>\n",
       "    </tr>\n",
       "    <tr>\n",
       "      <th>6476</th>\n",
       "      <td>23:52:00</td>\n",
       "      <td>50.0</td>\n",
       "      <td>2025-01-01</td>\n",
       "    </tr>\n",
       "    <tr>\n",
       "      <th>6477</th>\n",
       "      <td>23:54:00</td>\n",
       "      <td>54.0</td>\n",
       "      <td>2025-01-01</td>\n",
       "    </tr>\n",
       "    <tr>\n",
       "      <th>6478</th>\n",
       "      <td>23:56:00</td>\n",
       "      <td>60.0</td>\n",
       "      <td>2025-01-01</td>\n",
       "    </tr>\n",
       "    <tr>\n",
       "      <th>6479</th>\n",
       "      <td>23:58:00</td>\n",
       "      <td>70.0</td>\n",
       "      <td>2025-01-01</td>\n",
       "    </tr>\n",
       "  </tbody>\n",
       "</table>\n",
       "<p>6480 rows × 3 columns</p>\n",
       "</div>"
      ],
      "text/plain": [
       "     timestamp  heart_rates        date\n",
       "0     00:00:00         61.0  2024-12-22\n",
       "1     00:02:00         64.0  2024-12-22\n",
       "2     00:04:00         70.0  2024-12-22\n",
       "3     00:06:00         66.0  2024-12-22\n",
       "4     00:08:00         70.0  2024-12-22\n",
       "...        ...          ...         ...\n",
       "6475  23:50:00         52.0  2025-01-01\n",
       "6476  23:52:00         50.0  2025-01-01\n",
       "6477  23:54:00         54.0  2025-01-01\n",
       "6478  23:56:00         60.0  2025-01-01\n",
       "6479  23:58:00         70.0  2025-01-01\n",
       "\n",
       "[6480 rows x 3 columns]"
      ]
     },
     "execution_count": 171,
     "metadata": {},
     "output_type": "execute_result"
    }
   ],
   "source": [
    "all_data = pd.concat(\n",
    "    (pd.read_csv(file).assign(date=file.split('/')[-1].replace('_completed.csv', '')) for file in csv_processed_files),\n",
    "    ignore_index=True\n",
    ")\n",
    "\n",
    "\n",
    "all_data"
   ]
  },
  {
   "cell_type": "markdown",
   "id": "8892d9e0-d172-4763-9dba-d0a7a29aa23c",
   "metadata": {},
   "source": [
    "### Calculate Average Heart Rate for 3-Hour Time Slots\n",
    "\n",
    "In this section, we will calculate the average heart rate for predefined 3-hour time slots throughout the day. To achieve this, we'll first create a new column in the dataset that assigns each timestamp to a specific time slot (e.g., 00:00-03:00 → 1st slot, 03:00-06:00 → 2nd slot, etc.). Once the time slots are assigned, we'll compute the average heart rate for each slot."
   ]
  },
  {
   "cell_type": "code",
   "execution_count": 184,
   "id": "d718dc3f-4da1-4841-8091-af2e7b529ec8",
   "metadata": {},
   "outputs": [
    {
     "data": {
      "text/html": [
       "<div>\n",
       "<style scoped>\n",
       "    .dataframe tbody tr th:only-of-type {\n",
       "        vertical-align: middle;\n",
       "    }\n",
       "\n",
       "    .dataframe tbody tr th {\n",
       "        vertical-align: top;\n",
       "    }\n",
       "\n",
       "    .dataframe thead th {\n",
       "        text-align: right;\n",
       "    }\n",
       "</style>\n",
       "<table border=\"1\" class=\"dataframe\">\n",
       "  <thead>\n",
       "    <tr style=\"text-align: right;\">\n",
       "      <th></th>\n",
       "      <th>time_slot</th>\n",
       "      <th>heart_rates</th>\n",
       "    </tr>\n",
       "  </thead>\n",
       "  <tbody>\n",
       "    <tr>\n",
       "      <th>0</th>\n",
       "      <td>1</td>\n",
       "      <td>61.004938</td>\n",
       "    </tr>\n",
       "    <tr>\n",
       "      <th>1</th>\n",
       "      <td>2</td>\n",
       "      <td>51.488272</td>\n",
       "    </tr>\n",
       "    <tr>\n",
       "      <th>2</th>\n",
       "      <td>3</td>\n",
       "      <td>53.697531</td>\n",
       "    </tr>\n",
       "    <tr>\n",
       "      <th>3</th>\n",
       "      <td>4</td>\n",
       "      <td>75.081481</td>\n",
       "    </tr>\n",
       "    <tr>\n",
       "      <th>4</th>\n",
       "      <td>5</td>\n",
       "      <td>70.620988</td>\n",
       "    </tr>\n",
       "    <tr>\n",
       "      <th>5</th>\n",
       "      <td>6</td>\n",
       "      <td>70.956790</td>\n",
       "    </tr>\n",
       "    <tr>\n",
       "      <th>6</th>\n",
       "      <td>7</td>\n",
       "      <td>73.892593</td>\n",
       "    </tr>\n",
       "    <tr>\n",
       "      <th>7</th>\n",
       "      <td>8</td>\n",
       "      <td>72.962963</td>\n",
       "    </tr>\n",
       "  </tbody>\n",
       "</table>\n",
       "</div>"
      ],
      "text/plain": [
       "   time_slot  heart_rates\n",
       "0          1    61.004938\n",
       "1          2    51.488272\n",
       "2          3    53.697531\n",
       "3          4    75.081481\n",
       "4          5    70.620988\n",
       "5          6    70.956790\n",
       "6          7    73.892593\n",
       "7          8    72.962963"
      ]
     },
     "execution_count": 184,
     "metadata": {},
     "output_type": "execute_result"
    }
   ],
   "source": [
    "def assign_time_slot(timestamp):\n",
    "    hour = int(timestamp.split(\":\")[0])\n",
    "    return (hour // 3) + 1\n",
    "\n",
    "all_data['time_slot'] = all_data['timestamp'].apply(assign_time_slot)\n",
    "\n",
    "average_heart_rate_by_slot = pd.DataFrame(all_data.groupby(['time_slot'])['heart_rates'].mean().reset_index())\n",
    "\n",
    "average_heart_rate_by_slot"
   ]
  },
  {
   "cell_type": "code",
   "execution_count": null,
   "id": "6ec7db53-714d-487f-ab3e-e6ef33af8064",
   "metadata": {},
   "outputs": [],
   "source": []
  }
 ],
 "metadata": {
  "kernelspec": {
   "display_name": "Python (GarminHeartRate)",
   "language": "python",
   "name": "garminheartrate"
  },
  "language_info": {
   "codemirror_mode": {
    "name": "ipython",
    "version": 3
   },
   "file_extension": ".py",
   "mimetype": "text/x-python",
   "name": "python",
   "nbconvert_exporter": "python",
   "pygments_lexer": "ipython3",
   "version": "3.13.1"
  }
 },
 "nbformat": 4,
 "nbformat_minor": 5
}
