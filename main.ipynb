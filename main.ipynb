{
 "cells": [
  {
   "cell_type": "code",
   "execution_count": 20,
   "id": "cac67289-caa5-429b-8752-6b5e0f63fd90",
   "metadata": {},
   "outputs": [],
   "source": [
    "import pandas as pd\n",
    "import matplotlib.pyplot as plt\n",
    "import glob"
   ]
  },
  {
   "cell_type": "code",
   "execution_count": 118,
   "id": "311746bc-46f0-441f-befc-04e726762a7a",
   "metadata": {},
   "outputs": [],
   "source": [
    "csv_files = glob.glob(\"data/raw/heart_rates/*.csv\")\n",
    "csv_files = [csv_file.replace(\"\\\\\", \"/\") for csv_file in csv_files]"
   ]
  },
  {
   "cell_type": "code",
   "execution_count": 22,
   "id": "8128d8aa-f506-448b-9818-8acef16010a6",
   "metadata": {},
   "outputs": [],
   "source": [
    "all_data = pd.concat(\n",
    "    (pd.read_csv(file).assign(date=file.split('/')[-1].replace('.csv', '')) for file in csv_files),\n",
    "    ignore_index=True\n",
    ")"
   ]
  },
  {
   "cell_type": "code",
   "execution_count": 23,
   "id": "dbaa2975-735f-4b4f-a05f-eda240a472e1",
   "metadata": {},
   "outputs": [
    {
     "data": {
      "text/html": [
       "<div>\n",
       "<style scoped>\n",
       "    .dataframe tbody tr th:only-of-type {\n",
       "        vertical-align: middle;\n",
       "    }\n",
       "\n",
       "    .dataframe tbody tr th {\n",
       "        vertical-align: top;\n",
       "    }\n",
       "\n",
       "    .dataframe thead th {\n",
       "        text-align: right;\n",
       "    }\n",
       "</style>\n",
       "<table border=\"1\" class=\"dataframe\">\n",
       "  <thead>\n",
       "    <tr style=\"text-align: right;\">\n",
       "      <th></th>\n",
       "      <th>timestamp</th>\n",
       "      <th>heart_rates</th>\n",
       "      <th>date</th>\n",
       "    </tr>\n",
       "  </thead>\n",
       "  <tbody>\n",
       "    <tr>\n",
       "      <th>0</th>\n",
       "      <td>14:58</td>\n",
       "      <td>69.0</td>\n",
       "      <td>2024-12-21</td>\n",
       "    </tr>\n",
       "    <tr>\n",
       "      <th>1</th>\n",
       "      <td>15:00</td>\n",
       "      <td>70.0</td>\n",
       "      <td>2024-12-21</td>\n",
       "    </tr>\n",
       "    <tr>\n",
       "      <th>2</th>\n",
       "      <td>15:02</td>\n",
       "      <td>66.0</td>\n",
       "      <td>2024-12-21</td>\n",
       "    </tr>\n",
       "    <tr>\n",
       "      <th>3</th>\n",
       "      <td>15:04</td>\n",
       "      <td>71.0</td>\n",
       "      <td>2024-12-21</td>\n",
       "    </tr>\n",
       "    <tr>\n",
       "      <th>4</th>\n",
       "      <td>15:06</td>\n",
       "      <td>75.0</td>\n",
       "      <td>2024-12-21</td>\n",
       "    </tr>\n",
       "  </tbody>\n",
       "</table>\n",
       "</div>"
      ],
      "text/plain": [
       "  timestamp  heart_rates        date\n",
       "0     14:58         69.0  2024-12-21\n",
       "1     15:00         70.0  2024-12-21\n",
       "2     15:02         66.0  2024-12-21\n",
       "3     15:04         71.0  2024-12-21\n",
       "4     15:06         75.0  2024-12-21"
      ]
     },
     "execution_count": 23,
     "metadata": {},
     "output_type": "execute_result"
    }
   ],
   "source": [
    "all_data.head()"
   ]
  },
  {
   "cell_type": "code",
   "execution_count": 24,
   "id": "311307e5-dd1d-4f1d-aab9-094dec796016",
   "metadata": {},
   "outputs": [
    {
     "data": {
      "text/html": [
       "<div>\n",
       "<style scoped>\n",
       "    .dataframe tbody tr th:only-of-type {\n",
       "        vertical-align: middle;\n",
       "    }\n",
       "\n",
       "    .dataframe tbody tr th {\n",
       "        vertical-align: top;\n",
       "    }\n",
       "\n",
       "    .dataframe thead th {\n",
       "        text-align: right;\n",
       "    }\n",
       "</style>\n",
       "<table border=\"1\" class=\"dataframe\">\n",
       "  <thead>\n",
       "    <tr style=\"text-align: right;\">\n",
       "      <th></th>\n",
       "      <th>timestamp</th>\n",
       "      <th>heart_rates</th>\n",
       "      <th>date</th>\n",
       "    </tr>\n",
       "  </thead>\n",
       "  <tbody>\n",
       "    <tr>\n",
       "      <th>8163</th>\n",
       "      <td>07:58</td>\n",
       "      <td>74.0</td>\n",
       "      <td>2025-01-02</td>\n",
       "    </tr>\n",
       "    <tr>\n",
       "      <th>8164</th>\n",
       "      <td>08:00</td>\n",
       "      <td>62.0</td>\n",
       "      <td>2025-01-02</td>\n",
       "    </tr>\n",
       "    <tr>\n",
       "      <th>8165</th>\n",
       "      <td>08:02</td>\n",
       "      <td>63.0</td>\n",
       "      <td>2025-01-02</td>\n",
       "    </tr>\n",
       "    <tr>\n",
       "      <th>8166</th>\n",
       "      <td>08:04</td>\n",
       "      <td>67.0</td>\n",
       "      <td>2025-01-02</td>\n",
       "    </tr>\n",
       "    <tr>\n",
       "      <th>8167</th>\n",
       "      <td>08:06</td>\n",
       "      <td>61.0</td>\n",
       "      <td>2025-01-02</td>\n",
       "    </tr>\n",
       "  </tbody>\n",
       "</table>\n",
       "</div>"
      ],
      "text/plain": [
       "     timestamp  heart_rates        date\n",
       "8163     07:58         74.0  2025-01-02\n",
       "8164     08:00         62.0  2025-01-02\n",
       "8165     08:02         63.0  2025-01-02\n",
       "8166     08:04         67.0  2025-01-02\n",
       "8167     08:06         61.0  2025-01-02"
      ]
     },
     "execution_count": 24,
     "metadata": {},
     "output_type": "execute_result"
    }
   ],
   "source": [
    "all_data.tail()"
   ]
  },
  {
   "cell_type": "code",
   "execution_count": 25,
   "id": "a92ec0ff-1537-446f-9a74-b79836878e75",
   "metadata": {},
   "outputs": [
    {
     "data": {
      "text/plain": [
       "timestamp       object\n",
       "heart_rates    float64\n",
       "date            object\n",
       "dtype: object"
      ]
     },
     "execution_count": 25,
     "metadata": {},
     "output_type": "execute_result"
    }
   ],
   "source": [
    "all_data.dtypes"
   ]
  },
  {
   "cell_type": "code",
   "execution_count": 116,
   "id": "66b050f1-c9e7-4b5a-a1d2-fe76f049d362",
   "metadata": {},
   "outputs": [
    {
     "data": {
      "text/plain": [
       "timestamp       0\n",
       "heart_rates    23\n",
       "date            0\n",
       "dtype: int64"
      ]
     },
     "execution_count": 116,
     "metadata": {},
     "output_type": "execute_result"
    }
   ],
   "source": [
    "missing_values_counts = all_data.isna().sum()\n",
    "missing_values_counts"
   ]
  },
  {
   "cell_type": "code",
   "execution_count": 142,
   "id": "142fb378-fd86-4675-b38b-68719fcc3a2a",
   "metadata": {},
   "outputs": [],
   "source": [
    "def standardize_dataframe(df, timestamp_column):\n",
    "    df[timestamp_column] = pd.to_datetime(df[timestamp_column], format=\"%H:%M\").dt.time\n",
    "\n",
    "    expected_items = pd.date_range(start=\"00:00\", end=\"23:58\", freq=\"2min\").time\n",
    "    \n",
    "    df.set_index(timestamp_column, inplace=True)\n",
    "    df = df.reindex(expected_items)\n",
    "    \n",
    "    df.index.name = 'timestamp'\n",
    "    \n",
    "    return df\n"
   ]
  },
  {
   "cell_type": "code",
   "execution_count": 143,
   "id": "76514226-0b0e-426b-a05f-4d70dd69342e",
   "metadata": {},
   "outputs": [
    {
     "name": "stdout",
     "output_type": "stream",
     "text": [
      "2024-12-21: 490 NaN values\n",
      "2024-12-22: 2 NaN values\n",
      "2024-12-23: 0 NaN values\n",
      "2024-12-24: 0 NaN values\n",
      "2024-12-25: 138 NaN values\n",
      "2024-12-26: 0 NaN values\n",
      "2024-12-27: 72 NaN values\n",
      "2024-12-28: 17 NaN values\n",
      "2024-12-29: 0 NaN values\n",
      "2024-12-30: 0 NaN values\n",
      "2024-12-31: 0 NaN values\n",
      "2025-01-01: 20 NaN values\n",
      "2025-01-02: 476 NaN values\n"
     ]
    }
   ],
   "source": [
    "nan_counts = {}\n",
    "\n",
    "for file_name in csv_files:\n",
    "    day = file_name.split(\"/\")[-1].replace(\".csv\", \"\")\n",
    "    df = pd.read_csv(file_name)\n",
    "\n",
    "    df = standardize_dataframe(df, timestamp_column=\"timestamp\")\n",
    "\n",
    "    nan_count = int(df['heart_rates'].isna().sum())\n",
    "    nan_counts[day] = nan_count\n",
    "    \n",
    "    print(f\"{day}: {nan_count} NaN values\")"
   ]
  },
  {
   "cell_type": "code",
   "execution_count": 144,
   "id": "402e357a-dabb-4f7f-b542-e24ea4248270",
   "metadata": {},
   "outputs": [
    {
     "data": {
      "image/png": "[encoded data removed]",
      "text/plain": [
       "<Figure size 1000x400 with 1 Axes>"
      ]
     },
     "metadata": {},
     "output_type": "display_data"
    }
   ],
   "source": [
    "nan_df = pd.DataFrame(list(nan_counts.items()), columns=[\"Day\", \"NaN_Count\"])\n",
    "\n",
    "plt.figure(figsize=(10,4))\n",
    "plt.bar(nan_df[\"Day\"], nan_df[\"NaN_Count\"], color='skyblue')\n",
    "\n",
    "plt.axhline(y=0, color='gray', linestyle='--', linewidth=1)\n",
    "plt.xlabel(\"Day\")\n",
    "plt.ylabel(\"Number of NaN Values\")\n",
    "plt.title(\"NaN Values per Day\")\n",
    "plt.xticks(rotation=45, fontsize=8)\n",
    "plt.tight_layout()\n",
    "plt.grid(alpha=0.2)\n",
    "plt.show()"
   ]
  },
  {
   "cell_type": "code",
   "execution_count": 145,
   "id": "d515d34e-0c6d-472e-b42a-1a6dedbf63fc",
   "metadata": {},
   "outputs": [
    {
     "name": "stdout",
     "output_type": "stream",
     "text": [
      "{'2024-12-21': 490, '2024-12-22': 2, '2024-12-23': 0, '2024-12-24': 0, '2024-12-25': 138, '2024-12-26': 0, '2024-12-27': 72, '2024-12-28': 17, '2024-12-29': 0, '2024-12-30': 0, '2024-12-31': 0, '2025-01-01': 20, '2025-01-02': 476}\n"
     ]
    }
   ],
   "source": [
    "print(nan_counts)"
   ]
  },
  {
   "cell_type": "code",
   "execution_count": 146,
   "id": "6bc4198b-fa49-41e8-8965-bd180f8dfd99",
   "metadata": {},
   "outputs": [
    {
     "name": "stdout",
     "output_type": "stream",
     "text": [
      "Processing day: 2024-12-22 (Valid rows: 718)\n",
      "Completed interpolation for 2024-12-22\n",
      "Processing day: 2024-12-23 (Valid rows: 720)\n",
      "Completed interpolation for 2024-12-23\n",
      "Processing day: 2024-12-24 (Valid rows: 720)\n",
      "Completed interpolation for 2024-12-24\n",
      "Processing day: 2024-12-26 (Valid rows: 720)\n",
      "Completed interpolation for 2024-12-26\n",
      "Processing day: 2024-12-28 (Valid rows: 703)\n",
      "Completed interpolation for 2024-12-28\n",
      "Processing day: 2024-12-29 (Valid rows: 720)\n",
      "Completed interpolation for 2024-12-29\n",
      "Processing day: 2024-12-30 (Valid rows: 720)\n",
      "Completed interpolation for 2024-12-30\n",
      "Processing day: 2024-12-31 (Valid rows: 720)\n",
      "Completed interpolation for 2024-12-31\n",
      "Processing day: 2025-01-01 (Valid rows: 700)\n",
      "Completed interpolation for 2025-01-01\n"
     ]
    }
   ],
   "source": [
    "threshold = 700\n",
    "\n",
    "for day, value in nan_counts.items():\n",
    "    valid_count = 720 - value\n",
    "\n",
    "    if valid_count >= threshold:\n",
    "        print(f\"Processing day: {day} (Valid rows: {valid_count})\")\n",
    "\n",
    "        df = pd.read_csv(f\"data/raw/heart_rates/{day}.csv\")\n",
    "        df = standardize_dataframe(df, timestamp_column=\"timestamp\")\n",
    "        \n",
    "        df['heart_rates'] = df['heart_rates'].interpolate(method='linear', limit_direction='both')\n",
    "\n",
    "        df.to_csv(f\"data/processed/heart_rates/{day}_completed.csv\")\n",
    "        print(f\"Completed interpolation for {day}\")"
   ]
  },
  {
   "cell_type": "code",
   "execution_count": null,
   "id": "9eafc722-5c8a-4491-af86-d6bd26129cec",
   "metadata": {},
   "outputs": [],
   "source": []
  }
 ],
 "metadata": {
  "kernelspec": {
   "display_name": "Python (GarminHeartRate)",
   "language": "python",
   "name": "garminheartrate"
  },
  "language_info": {
   "codemirror_mode": {
    "name": "ipython",
    "version": 3
   },
   "file_extension": ".py",
   "mimetype": "text/x-python",
   "name": "python",
   "nbconvert_exporter": "python",
   "pygments_lexer": "ipython3",
   "version": "3.13.1"
  }
 },
 "nbformat": 4,
 "nbformat_minor": 5
}
